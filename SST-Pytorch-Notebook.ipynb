{
  "cells": [
    {
      "cell_type": "markdown",
      "metadata": {
        "id": "ptMZZMQlfn7c"
      },
      "source": [
        "------\n",
        "**You cannot apply any changes to this file, so please make sure to save it on your Google Colab drive or download it as a .ipynb file.**\n",
        "\n",
        "------\n"
      ]
    },
    {
      "cell_type": "markdown",
      "metadata": {
        "id": "jILqpPLlE9r0"
      },
      "source": [
        "# Practical 2: Representing Sentences with Neural Models"
      ]
    },
    {
      "cell_type": "markdown",
      "metadata": {
        "id": "8JXOZ5uhQ8Qq"
      },
      "source": [
        "In this second practical, we will train neural network models to obtain sentence representations. We can then use these sentence representations for a downstream task such as sentiment classification.\n",
        "\n",
        "In this notebook, we will help you to develop models for your experiments. But this time, next to completing the notebook, **you are expected to write a four-page scientific report with your findings**. Please still submit the notebook together with your scientific report so that we can reproduce your experiments. (Note: if you find it useful, you can split this notebook into multiple notebooks. If you do so, keep it mind that it should be possible for your TAs to reproduce the entire content of the notebooks without having to ask for clarifications or to copy and paste functions from one sub-notebook to another.) Make sure your code corresponds to the description you give in the report; we will deduct points if this is not the case.\n",
        "\n",
        "**Important!** The main purpose of this lab is for you to learn how to answer research questions by experimenting and then writing a scientific report.\n",
        "So you will be *judged by the quality of your report* but will lose points if your experiments are not reproducible.\n",
        "You can find the requirements for the report at the end of this notebook.\n",
        "\n",
        "\n",
        "### Data set\n",
        "We will use the [Stanford Sentiment Treebank](https://nlp.stanford.edu/sentiment/) (SST), which provides sentences, their binary tree structure, and fine-grained sentiment scores.\n",
        "This dataset is different from the one we used in the first practical.\n",
        "In Practical 1, a review consisted of several sentences, and we had one sentiment score for the whole review. Now, a review consists of a single sentence, and we have a sentiment score for each node in the binary tree that makes up the sentence, including the root node (i.e., we still have an overall sentiment score for the entire review). We will look at an example below.\n",
        "\n",
        "In the first part of this practical we will only make use of the sentence tokens whereas in the second part we will also exploit the tree structure that is provided by the SST.\n",
        "\n",
        "We will cover the following approaches:\n",
        "\n",
        "- Bag-of-words (BOW)\n",
        "- Continuous bag-of-words (CBOW)\n",
        "- Deep continuous bag-of-words (Deep CBOW)\n",
        "- LSTM\n",
        "- Tree-LSTM\n"
      ]
    },
    {
      "cell_type": "markdown",
      "metadata": {
        "id": "YbNKef3lymaj"
      },
      "source": [
        "## Preparing the data"
      ]
    },
    {
      "cell_type": "markdown",
      "metadata": {
        "id": "9jxTkpg59FlU"
      },
      "source": [
        "Let's first download the data set and take a look."
      ]
    },
    {
      "cell_type": "code",
      "execution_count": 31,
      "metadata": {
        "id": "WZp53HmMP3F2"
      },
      "outputs": [
        {
          "name": "stdout",
          "output_type": "stream",
          "text": [
            "env: PYTORCH_ENABLE_MPS_FALLBACK=1\n"
          ]
        }
      ],
      "source": [
        "\n",
        "import random\n",
        "import time\n",
        "import math\n",
        "import numpy as np\n",
        "import matplotlib.pyplot as plt\n",
        "import seaborn as sns\n",
        "from nltk import Tree\n",
        "from nltk.tree import TreePrettyPrinter\n",
        "\n",
        "import torch\n",
        "from torch import nn\n",
        "from torch import optim\n",
        "\n",
        "from torch.utils.data import Dataset, DataLoader\n",
        "\n",
        "from practical2.utils import (\n",
        "    Vocabulary,\n",
        "    examplereader,\n",
        "    filereader,\n",
        "    tokens_from_treestring,\n",
        "    load_embeddings,\n",
        "    load_dataset,\n",
        "    set_seed,\n",
        "    OrderedDict,\n",
        "    prepare_example,\n",
        "    get_examples,\n",
        "    Example,\n",
        "    print_parameters,\n",
        ")\n",
        "from practical2.treelstm import SHIFT, REDUCE\n",
        "\n",
        "SEED = 42\n",
        "LOWER = False # default lowercase all tokens in the dataset\n",
        "plt.style.use(\"default\")\n",
        "sns.set_style(\"whitegrid\")\n",
        "\n",
        "%env PYTORCH_ENABLE_MPS_FALLBACK 1"
      ]
    },
    {
      "cell_type": "markdown",
      "metadata": {
        "id": "yP_jpquiprH8"
      },
      "source": [
        "Let's look at a data point. It is a **flattened binary tree**, with sentiment scores at every node, and words as the leaves (or *terminal nodes*)."
      ]
    },
    {
      "cell_type": "code",
      "execution_count": 4,
      "metadata": {
        "colab": {
          "base_uri": "https://localhost:8080/"
        },
        "id": "7_U7HTFwdrWt",
        "outputId": "80055d7f-8755-423b-8804-3363222bc06b"
      },
      "outputs": [
        {
          "name": "stdout",
          "output_type": "stream",
          "text": [
            "(3 (2 It) (4 (4 (2 's) (4 (3 (2 a) (4 (3 lovely) (2 film))) (3 (2 with) (4 (3 (3 lovely) (2 performances)) (2 (2 by) (2 (2 (2 Buy) (2 and)) (2 Accorsi))))))) (2 .)))\n",
            "              3                                                                     \n",
            "  ____________|____________________                                                  \n",
            " |                                 4                                                \n",
            " |        _________________________|______________________________________________   \n",
            " |       4                                                                        | \n",
            " |    ___|______________                                                          |  \n",
            " |   |                  4                                                         | \n",
            " |   |         _________|__________                                               |  \n",
            " |   |        |                    3                                              | \n",
            " |   |        |               _____|______________________                        |  \n",
            " |   |        |              |                            4                       | \n",
            " |   |        |              |            ________________|_______                |  \n",
            " |   |        |              |           |                        2               | \n",
            " |   |        |              |           |                 _______|___            |  \n",
            " |   |        3              |           |                |           2           | \n",
            " |   |    ____|_____         |           |                |        ___|_____      |  \n",
            " |   |   |          4        |           3                |       2         |     | \n",
            " |   |   |     _____|___     |      _____|_______         |    ___|___      |     |  \n",
            " 2   2   2    3         2    2     3             2        2   2       2     2     2 \n",
            " |   |   |    |         |    |     |             |        |   |       |     |     |  \n",
            " It  's  a  lovely     film with lovely     performances  by Buy     and Accorsi  . \n",
            "\n"
          ]
        }
      ],
      "source": [
        "s = next(filereader(load_dataset[\"dev\"]))\n",
        "print(s)\n",
        "\n",
        "# We can use NLTK to better visualise the tree structure of the sentence\n",
        "tree = Tree.fromstring(s)\n",
        "print(TreePrettyPrinter(tree))"
      ]
    },
    {
      "cell_type": "markdown",
      "metadata": {
        "id": "ekAWKsji9t93"
      },
      "source": [
        "The sentiment scores range from 0 (very negative) to 5 (very positive). Again, as you can see, every node in the tree is labeled with a sentiment score. For now, we will only use the score at the **root node**, i.e., the sentiment score for the complete sentence."
      ]
    },
    {
      "cell_type": "code",
      "execution_count": 4,
      "metadata": {
        "colab": {
          "base_uri": "https://localhost:8080/"
        },
        "id": "DKynLm0xPKr2",
        "outputId": "bc0a3ccf-2ed2-4f4d-e3f8-e3330dcb18de"
      },
      "outputs": [
        {
          "name": "stdout",
          "output_type": "stream",
          "text": [
            "['It', \"'s\", 'a', 'lovely', 'film', 'with', 'lovely', 'performances', 'by', 'Buy', 'and', 'Accorsi', '.']\n",
            "13\n"
          ]
        }
      ],
      "source": [
        "# Let's first make a function that extracts the tokens (the leaves)\n",
        "\n",
        "# let's try it on our example tree\n",
        "tokens = tokens_from_treestring(s)\n",
        "print(tokens)\n",
        "print(len(tokens))"
      ]
    },
    {
      "cell_type": "markdown",
      "metadata": {
        "id": "B8vFkeqN-NLP"
      },
      "source": [
        "> *Warning: you could also parse a treestring using NLTK and ask it to return the leaves, but there seems to be an issue with NLTK not always correctly parsing the input, so do not rely on it.*"
      ]
    },
    {
      "cell_type": "code",
      "execution_count": 5,
      "metadata": {
        "colab": {
          "base_uri": "https://localhost:8080/"
        },
        "id": "mNtPdlwPgRat",
        "outputId": "9c999c1a-80e0-4e56-cfe0-b543b20985f2"
      },
      "outputs": [
        {
          "name": "stdout",
          "output_type": "stream",
          "text": [
            "trees/train.txt  8544\n",
            "trees/dev.txt    1101\n",
            "trees/test.txt   2210\n"
          ]
        }
      ],
      "source": [
        "# Now let's first see how large our data sets are.\n",
        "for path in (\"trees/train.txt\", \"trees/dev.txt\", \"trees/test.txt\"):\n",
        "    print(\"{:16s} {:4d}\".format(path, sum(1 for _ in filereader(path))))"
      ]
    },
    {
      "cell_type": "markdown",
      "metadata": {
        "id": "HexlSqTR_UrY"
      },
      "source": [
        "You can see that the number of sentences is not very large. That's probably because the data set required so much manual annotation. However, it is large enough to train a neural network on."
      ]
    },
    {
      "cell_type": "markdown",
      "metadata": {
        "id": "IfRjelOcsXuC"
      },
      "source": [
        "It will be useful to store each data example in an `Example` object,\n",
        "containing everything that we may need for each data point.\n",
        "It will contain the tokens, the tree, the top-level sentiment label, and\n",
        "the transitions (explained later)."
      ]
    },
    {
      "cell_type": "code",
      "execution_count": 44,
      "metadata": {
        "colab": {
          "base_uri": "https://localhost:8080/"
        },
        "id": "4I07Hb_-q8wg",
        "outputId": "cc2a8f6b-3170-45be-a6d5-9b68d34b80ff"
      },
      "outputs": [
        {
          "ename": "NameError",
          "evalue": "name 'load_dataset' is not defined",
          "output_type": "error",
          "traceback": [
            "\u001b[0;31m---------------------------------------------------------------------------\u001b[0m",
            "\u001b[0;31mNameError\u001b[0m                                 Traceback (most recent call last)",
            "\u001b[1;32m/Users/Matey/Documents/Obsidian/University/Courses/NLP/Practicals/NLP1_2023_Prac_2_st.ipynb Cell 15\u001b[0m line \u001b[0;36m2\n\u001b[1;32m      <a href='vscode-notebook-cell:/Users/Matey/Documents/Obsidian/University/Courses/NLP/Practicals/NLP1_2023_Prac_2_st.ipynb#X23sZmlsZQ%3D%3D?line=0'>1</a>\u001b[0m \u001b[39m# Let's load the data into memory.\u001b[39;00m\n\u001b[0;32m----> <a href='vscode-notebook-cell:/Users/Matey/Documents/Obsidian/University/Courses/NLP/Practicals/NLP1_2023_Prac_2_st.ipynb#X23sZmlsZQ%3D%3D?line=1'>2</a>\u001b[0m _ \u001b[39m=\u001b[39m load_dataset(\u001b[39m'\u001b[39m\u001b[39mdata/\u001b[39m\u001b[39m'\u001b[39m)\n\u001b[1;32m      <a href='vscode-notebook-cell:/Users/Matey/Documents/Obsidian/University/Courses/NLP/Practicals/NLP1_2023_Prac_2_st.ipynb#X23sZmlsZQ%3D%3D?line=2'>3</a>\u001b[0m train_data \u001b[39m=\u001b[39m \u001b[39mlist\u001b[39m(examplereader(_[\u001b[39m'\u001b[39m\u001b[39mtrain\u001b[39m\u001b[39m'\u001b[39m]), lower\u001b[39m=\u001b[39mLOWER)\n\u001b[1;32m      <a href='vscode-notebook-cell:/Users/Matey/Documents/Obsidian/University/Courses/NLP/Practicals/NLP1_2023_Prac_2_st.ipynb#X23sZmlsZQ%3D%3D?line=3'>4</a>\u001b[0m dev_data \u001b[39m=\u001b[39m \u001b[39mlist\u001b[39m(examplereader(_[\u001b[39m\"\u001b[39m\u001b[39mdev\u001b[39m\u001b[39m\"\u001b[39m], lower\u001b[39m=\u001b[39mLOWER))\n",
            "\u001b[0;31mNameError\u001b[0m: name 'load_dataset' is not defined"
          ]
        }
      ],
      "source": [
        "# Let's load the data into memory.\n",
        "_ = load_dataset('data/')\n",
        "train_data = list(examplereader(_['train']), lower=LOWER)\n",
        "dev_data = list(examplereader(_[\"dev\"], lower=LOWER))\n",
        "test_data = list(examplereader(_['test'], lower=LOWER))\n",
        "\n",
        "print(\"train\", len(train_data))\n",
        "print(\"dev\", len(dev_data))\n",
        "print(\"test\", len(test_data))"
      ]
    },
    {
      "cell_type": "markdown",
      "metadata": {
        "id": "6KM0bDyeVZtP"
      },
      "source": [
        "Let's check out an `Example` object."
      ]
    },
    {
      "cell_type": "code",
      "execution_count": 7,
      "metadata": {
        "colab": {
          "base_uri": "https://localhost:8080/"
        },
        "id": "J8mwcaZwxP1c",
        "outputId": "a3772e01-41db-4f93-8c78-c8dd70591cfc"
      },
      "outputs": [
        {
          "name": "stdout",
          "output_type": "stream",
          "text": [
            "First example: Example(tokens=['It', \"'s\", 'a', 'lovely', 'film', 'with', 'lovely', 'performances', 'by', 'Buy', 'and', 'Accorsi', '.'], tree=Tree('3', [Tree('2', ['It']), Tree('4', [Tree('4', [Tree('2', [\"'s\"]), Tree('4', [Tree('3', [Tree('2', ['a']), Tree('4', [Tree('3', ['lovely']), Tree('2', ['film'])])]), Tree('3', [Tree('2', ['with']), Tree('4', [Tree('3', [Tree('3', ['lovely']), Tree('2', ['performances'])]), Tree('2', [Tree('2', ['by']), Tree('2', [Tree('2', [Tree('2', ['Buy']), Tree('2', ['and'])]), Tree('2', ['Accorsi'])])])])])])]), Tree('2', ['.'])])]), label=3, transitions=[0, 0, 0, 0, 0, 1, 1, 0, 0, 0, 1, 0, 0, 0, 1, 0, 1, 1, 1, 1, 1, 1, 0, 1, 1])\n",
            "First example tokens: ['It', \"'s\", 'a', 'lovely', 'film', 'with', 'lovely', 'performances', 'by', 'Buy', 'and', 'Accorsi', '.']\n",
            "First example label: 3\n"
          ]
        }
      ],
      "source": [
        "example = dev_data[0]\n",
        "print(\"First example:\", example)\n",
        "print(\"First example tokens:\", example.tokens)\n",
        "print(\"First example label:\", example.label)"
      ]
    },
    {
      "cell_type": "markdown",
      "metadata": {
        "id": "-WDSprDBVcr-"
      },
      "source": [
        "#### Vocabulary\n",
        "A first step in most NLP tasks is collecting all the word types that appear in the data into a vocabulary, and counting the frequency of their occurrences. On the one hand, this will give us an overview of the word distribution of the data set (what are the most frequent words, how many rare words are there, ...). On the other hand, we will also use the vocabulary to map each word to a unique numeric ID, which is a more handy index than a string."
      ]
    },
    {
      "cell_type": "markdown",
      "metadata": {
        "id": "kOvkH_llVsoW"
      },
      "source": [
        "The vocabulary has by default an `<unk>` token and a `<pad>` token. The `<unk>` token is reserved for all words which do not appear in the training data (and for which, therefore, we cannot learn word representations). The function of the `<pad>` token will be explained later.\n",
        "\n",
        "\n",
        "Let's build the vocabulary!\n"
      ]
    },
    {
      "cell_type": "code",
      "execution_count": 8,
      "metadata": {
        "colab": {
          "base_uri": "https://localhost:8080/"
        },
        "id": "GwGQgQQBNUSq",
        "outputId": "6b0be0c8-f97b-4845-f070-bd51614b5a4c"
      },
      "outputs": [
        {
          "name": "stdout",
          "output_type": "stream",
          "text": [
            "Vocabulary size: 18280\n",
            "1973\n",
            "<unk>\n",
            "<pad>\n",
            ".\n",
            ",\n",
            "the\n",
            "and\n",
            "a\n",
            "of\n",
            "to\n",
            "'s\n",
            ". 8024\n",
            ", 7131\n",
            "the 6037\n",
            "and 4431\n",
            "a 4403\n",
            "of 4386\n",
            "to 2995\n",
            "'s 2544\n",
            "is 2536\n",
            "that 1915\n",
            "Number of hapax legomena: 9543 (52.2%)\n",
            "Scarpia comparing bag Bravo time-it-is embedded ick King overwhelmingly Theatre capture greatly Scarcely window limited delightful benevolent intensity welcomes not-very-funny\n"
          ]
        }
      ],
      "source": [
        "# This process should be deterministic and should have the same result\n",
        "# if run multiple times on the same data set.\n",
        "\n",
        "v = Vocabulary()\n",
        "for data_set in (train_data,):\n",
        "    for ex in data_set:\n",
        "        for token in ex.tokens:\n",
        "            v.count_token(token)\n",
        "\n",
        "v.build()\n",
        "print(\"Vocabulary size:\", len(v.w2i))\n",
        "\n",
        "# What is the ID for \"century?\"\n",
        "print(v.w2i[\"century\"])\n",
        "\n",
        "# What are the first 10 words in the vocabulary (based on their IDs)?\n",
        "for i in range(10):\n",
        "    print(v.i2w[i])\n",
        "\n",
        "# What are the 10 most common words?\n",
        "for word, freq in v.freqs.most_common(10):\n",
        "    print(word, freq)\n",
        "\n",
        "# And how many words are there with frequency 1?\n",
        "# (A fancy name for these is hapax legomena.)\n",
        "hapax_legomena = sum(freq == 1 for freq in v.freqs.values())\n",
        "print(\n",
        "    \"Number of hapax legomena: {:d} ({:.1f}%)\".format(\n",
        "        hapax_legomena, 100 * hapax_legomena / len(v.freqs)\n",
        "    )\n",
        ")\n",
        "\n",
        "# Finally 20 random words from the vocabulary.\n",
        "# This is a simple way to get a feeling for the data.\n",
        "# You could use the `choice` function from the already imported `random` package\n",
        "words = np.random.choice(v.i2w, size=20, replace=False)\n",
        "print(\" \".join(words))"
      ]
    },
    {
      "cell_type": "markdown",
      "metadata": {
        "id": "nGWaZahKV_dH"
      },
      "source": [
        "#### Sentiment label vocabulary"
      ]
    },
    {
      "cell_type": "code",
      "execution_count": 6,
      "metadata": {
        "colab": {
          "base_uri": "https://localhost:8080/"
        },
        "id": "D7UI26DP2dr2",
        "outputId": "8e004ef7-8c95-4980-fa9b-c859927192fb"
      },
      "outputs": [
        {
          "name": "stdout",
          "output_type": "stream",
          "text": [
            "['very negative', 'negative', 'neutral', 'positive', 'very positive'] very positive\n",
            "OrderedDict([('very negative', 0), ('negative', 1), ('neutral', 2), ('positive', 3), ('very positive', 4)]) 4\n"
          ]
        }
      ],
      "source": [
        "# Now let's map the sentiment labels 0-4 to a more readable form\n",
        "i2t = [\"very negative\", \"negative\", \"neutral\", \"positive\", \"very positive\"]\n",
        "print(i2t, i2t[4])\n",
        "\n",
        "# And let's also create the opposite mapping.\n",
        "# We won't use a Vocabulary for this (although we could), since the labels\n",
        "# are already numeric.\n",
        "i2t = [\"very negative\", \"negative\", \"neutral\", \"positive\", \"very positive\"]\n",
        "t2i = OrderedDict({p: i for p, i in zip(i2t, range(len(i2t)))})\n",
        "print(t2i, t2i[\"very positive\"])"
      ]
    },
    {
      "cell_type": "markdown",
      "metadata": {
        "id": "y0067ax54-rd"
      },
      "source": [
        "## PyTorch\n",
        "\n",
        "In Colab notebooks, the last available version of PyTorch is already installed.The current stable version is 1.7.\n",
        "\n",
        "*For installing PyTorch in your own computer, follow the instructions on [pytorch.org](pytorch.org) instead. This is for Google Colab only.*"
      ]
    },
    {
      "cell_type": "code",
      "execution_count": 7,
      "metadata": {
        "colab": {
          "base_uri": "https://localhost:8080/"
        },
        "id": "qKQMGtkR5KWr",
        "outputId": "ceb01077-6c2c-4e9b-b9e1-8b0ad13b88b7"
      },
      "outputs": [
        {
          "name": "stdout",
          "output_type": "stream",
          "text": [
            "Using torch 2.1.0\n",
            "Using device: mps\n"
          ]
        }
      ],
      "source": [
        "\n",
        "print(\"Using torch\", torch.__version__)  # should say 1.7.0+cu101\n",
        "\n",
        "# Let's also import torch.nn, a PyTorch package that\n",
        "# makes building neural networks more convenient.\n",
        "\n",
        "# PyTorch can run on CPU or on Nvidia GPU (video card) using CUDA\n",
        "# This cell selects the GPU if one is available.\n",
        "device = torch.device(\n",
        "    \"cuda\"\n",
        "    if torch.cuda.is_available()\n",
        "    else \"mps\"\n",
        "    if torch.backends.mps.is_available()\n",
        "    else \"cpu\"\n",
        ")\n",
        "print(f\"Using device: {device}\")\n",
        "\n",
        "set_seed(SEED)"
      ]
    },
    {
      "cell_type": "markdown",
      "metadata": {
        "id": "uWBTzkuE3CtZ"
      },
      "source": [
        "# BOW"
      ]
    },
    {
      "cell_type": "markdown",
      "metadata": {
        "id": "TBAjYYySOA5W"
      },
      "source": [
        "Our first model is a rather simple neural **bag-of-words (BOW) model**.\n",
        "Unlike the bag-of-words model that you used in the previous lab, where we would look at the presence / frequency of words in a text, here we associate each word with a multi-dimensional vector which expresses what sentiment is conveyed by the word. In particular, our BOW vectors will be of size 5, exactly our number of sentiment classes.\n",
        "\n",
        "To classify a sentence, we **sum** the vectors of the words in the sentence and a bias vector. Because we sum the vectors, we lose word order: that's why we call this a neural bag-of-words model.\n",
        "\n",
        "```\n",
        "this   [0.0, 0.1, 0.1, 0.1, 0.0]\n",
        "movie  [0.0, 0.1, 0.1, 0.2, 0.1]\n",
        "is     [0.0, 0.1, 0.0, 0.0, 0.0]\n",
        "stupid [0.9, 0.5, 0.1, 0.0, 0.0]\n",
        "\n",
        "bias   [0.0, 0.0, 0.0, 0.0, 0.0]\n",
        "--------------------------------\n",
        "sum    [0.9, 0.8, 0.3, 0.3, 0.1]\n",
        "\n",
        "argmax: 0 (very negative)\n",
        "```\n",
        "\n",
        "The **argmax** of this sum is our predicted label.\n",
        "\n",
        "We initialize all vectors *randomly* and train them using cross-entropy loss."
      ]
    },
    {
      "cell_type": "markdown",
      "metadata": {
        "id": "rLtBAIQGynkB"
      },
      "source": [
        "#### Model class"
      ]
    },
    {
      "cell_type": "code",
      "execution_count": 11,
      "metadata": {
        "id": "QZfNklWf3tvs"
      },
      "outputs": [
        {
          "name": "stdout",
          "output_type": "stream",
          "text": [
            "BOW(\n",
            "  (embed): Embedding(18280, 5)\n",
            ")\n"
          ]
        }
      ],
      "source": [
        "class BOW(nn.Module):\n",
        "    \"\"\"A simple bag-of-words model\"\"\"\n",
        "\n",
        "    def __init__(self, vocab_size, embedding_dim, vocab):\n",
        "        super(BOW, self).__init__()\n",
        "        self.vocab = vocab\n",
        "\n",
        "        # this is a trainable look-up table with word embeddings\n",
        "        self.embed = nn.Embedding(vocab_size, embedding_dim)\n",
        "\n",
        "        # this is a trainable bias term\n",
        "        self.bias = nn.Parameter(torch.zeros(\n",
        "            embedding_dim), requires_grad=True)\n",
        "\n",
        "    def forward(self, inputs):\n",
        "        # this is the forward pass of the neural network\n",
        "        # it applies a function to the input and returns the output\n",
        "\n",
        "        # this looks up the embeddings for each word ID in inputs\n",
        "        # the result is a sequence of word embeddings\n",
        "        embeds = self.embed(inputs)\n",
        "\n",
        "        # the output is the sum across the time dimension (1)\n",
        "        # with the bias term added\n",
        "        logits = embeds.sum(1) + self.bias\n",
        "\n",
        "        return logits\n",
        "\n",
        "\n",
        "# Let's create a model.\n",
        "vocab_size = len(v.w2i)\n",
        "n_classes = len(t2i)\n",
        "bow_model = BOW(vocab_size, n_classes, v)\n",
        "print(bow_model)"
      ]
    },
    {
      "cell_type": "markdown",
      "metadata": {
        "id": "vfCx-HvMH1qQ"
      },
      "source": [
        "> **Hey, wait, where is the bias vector?**\n",
        "> PyTorch does not print Parameters, only Modules!\n",
        "\n",
        "> We can print it ourselves though, to check that it is there."
      ]
    },
    {
      "cell_type": "code",
      "execution_count": 29,
      "metadata": {
        "colab": {
          "base_uri": "https://localhost:8080/"
        },
        "id": "Fhvk5HenAroT",
        "outputId": "abf205db-9edc-41fb-b224-ea7ce321b07b"
      },
      "outputs": [],
      "source": [
        "# Here we print each parameter name, shape, and if it is trainable.\n",
        "print_parameters(bow_model)"
      ]
    },
    {
      "cell_type": "markdown",
      "metadata": {
        "id": "WSAw292WxuP4"
      },
      "source": [
        "#### Preparing an example for input\n",
        "\n",
        "To feed sentences to our PyTorch model, we need to convert a sequence of tokens to a sequence of IDs. The `prepare_example` function below takes care of this for us. We then use these IDs as indices for the word embedding table."
      ]
    },
    {
      "cell_type": "code",
      "execution_count": 13,
      "metadata": {
        "colab": {
          "base_uri": "https://localhost:8080/"
        },
        "id": "sfbdv9px3uFF",
        "outputId": "423ec782-a269-4a4a-fcd5-a54239e372dd"
      },
      "outputs": [
        {
          "name": "stdout",
          "output_type": "stream",
          "text": [
            "x: tensor([[  28,    9,    6,  998,   16,   18,  998,  135,   32, 7688,    5,    0,\n",
            "            2]], device='mps:0')\n",
            "y: tensor([3], device='mps:0')\n"
          ]
        }
      ],
      "source": [
        "x, y = prepare_example(dev_data[0], v, device)\n",
        "print(\"x:\", x)\n",
        "print(\"y:\", y)"
      ]
    },
    {
      "cell_type": "markdown",
      "metadata": {
        "id": "oKNQjEc0yXnJ"
      },
      "source": [
        "#### Evaluation\n",
        "We now need to define an evaluation metric.\n",
        "How many predictions do we get right? The accuracy will tell us.\n",
        "Make sure that you understand this code block.\n"
      ]
    },
    {
      "cell_type": "markdown",
      "metadata": {
        "id": "5KlIGFXllWWm"
      },
      "source": [
        "We are using accuracy as a handy evaluation metric. Please consider using [alternative metrics](https://scikit-learn.org/stable/modules/classes.html#classification-metrics) for your experiments if that makes more theoretical sense."
      ]
    },
    {
      "cell_type": "markdown",
      "metadata": {
        "id": "dIk6OtSdzGRP"
      },
      "source": [
        "#### Example feed\n",
        "For stochastic gradient descent (SGD) we will need a random training example for every update.\n",
        "We implement this by shuffling the training data and returning examples one by one using `yield`.\n",
        "\n",
        "Shuffling is optional so that we get to use this function to get validation and test examples, too."
      ]
    },
    {
      "cell_type": "markdown",
      "metadata": {
        "id": "g09SM8yb2cjx"
      },
      "source": [
        "#### Exercise: Training function\n",
        "\n",
        "Your task is now to complete the training loop below.\n",
        "Before you do so, please read the section about optimisation."
      ]
    },
    {
      "cell_type": "markdown",
      "metadata": {
        "id": "TVfUukVdM_1c"
      },
      "source": [
        "**Optimisation**\n",
        "\n",
        "As mentioned in the \"Intro to PyTorch\" notebook, one of the perks of using PyTorch is automatic differentiation. We will use it to train our BOW model.\n",
        "\n",
        "We train our model by feeding it an input, performing a **forward** pass, obtaining an output prediction, and calculating a **loss** with our loss function.\n",
        "After the gradients are computed in the **backward** pass, we can take a step on the surface of the loss function towards more optimal parameter settings (gradient descent).\n",
        "\n",
        "The package we will use to do this optimisation is [torch.optim](https://pytorch.org/docs/stable/optim.html)."
      ]
    },
    {
      "cell_type": "markdown",
      "metadata": {
        "id": "wGIvcTZU_Cez"
      },
      "source": [
        "Besides implementations of stochastic gradient descent (SGD), this package also implements the optimisation algorithm Adam, which we'll be using in this practical.\n",
        "For the purposes of this assignment you do not need to know what Adam does besides that it uses gradient information to update our model parameters by calling:\n",
        "\n",
        "```\n",
        "optimizer.step()\n",
        "```\n",
        "Remember when we updated our parameters in the PyTorch tutorial in a loop?\n",
        "\n",
        "\n",
        "```python\n",
        "# update weights\n",
        "learning_rate = 0.5\n",
        "for f in net.parameters():\n",
        "    # for each parameter, take a small step in the opposite dir of the gradient\n",
        "    p.data = p.data - p.grad.data * learning_rate\n",
        "\n",
        "```\n",
        "The function call optimizer.step() does effectively the same thing.\n",
        "\n",
        "*(If you want to know more about optimisation algorithms using gradient information, [this blog](http://ruder.io/optimizing-gradient-descent/.) gives a nice intuitive overview.)*"
      ]
    },
    {
      "cell_type": "code",
      "execution_count": 9,
      "metadata": {
        "id": "ktFnKBux25lD"
      },
      "outputs": [],
      "source": [
        "def train_model(\n",
        "    model,\n",
        "    optimizer,\n",
        "    num_iterations=10000,\n",
        "    print_every=1000,\n",
        "    eval_every=1000,\n",
        "    batch_fn=get_examples,\n",
        "    prep_fn=lambda *args: prepare_example(*args,device=device),\n",
        "    eval_fn=simple_evaluate,\n",
        "    batch_size=1,\n",
        "    eval_batch_size=None,\n",
        "):\n",
        "    \"\"\"Train a model.\"\"\"\n",
        "    iter_i = 0\n",
        "    train_loss = 0.0\n",
        "    print_num = 0\n",
        "    start = time.time()\n",
        "    criterion = nn.CrossEntropyLoss()  # loss function\n",
        "    best_eval = 0.0\n",
        "    best_iter = 0\n",
        "\n",
        "    # store train loss and validation accuracy during training\n",
        "    # so we can plot them afterwards\n",
        "    losses = []\n",
        "    accuracies = []\n",
        "\n",
        "    if eval_batch_size is None:\n",
        "        eval_batch_size = batch_size\n",
        "\n",
        "    while True:  # when we run out of examples, shuffle and continue\n",
        "        for batch in batch_fn(train_data, batch_size=batch_size):\n",
        "            # forward pass\n",
        "            model.train()\n",
        "            x, targets = prep_fn(batch, model.vocab)\n",
        "            logits = model(x)\n",
        "\n",
        "            B = targets.size(0)  # later we will use B examples per update\n",
        "\n",
        "            # compute cross-entropy loss (our criterion)\n",
        "            # note that the cross entropy loss function computes the softmax for us\n",
        "            loss = criterion(logits.view([B, -1]), targets.view(-1))\n",
        "            train_loss += loss.item()\n",
        "\n",
        "            # backward pass (tip: check the Introduction to PyTorch notebook)\n",
        "\n",
        "            # erase previous gradients\n",
        "            optimizer.zero_grad()\n",
        "\n",
        "            # compute gradients\n",
        "            loss.backward()\n",
        "\n",
        "            # update weights - take a small step in the opposite dir of the gradient\n",
        "            optimizer.step()\n",
        "\n",
        "            print_num += 1\n",
        "            iter_i += 1\n",
        "\n",
        "            # print info\n",
        "            if iter_i % print_every == 0:\n",
        "                print(\n",
        "                    \"Iter %r: loss=%.4f, time=%.2fs\"\n",
        "                    % (iter_i, train_loss, time.time() - start)\n",
        "                )\n",
        "                losses.append(train_loss)\n",
        "                print_num = 0\n",
        "                train_loss = 0.0\n",
        "\n",
        "            # evaluate\n",
        "            if iter_i % eval_every == 0:\n",
        "                _, _, accuracy = eval_fn(\n",
        "                    model,\n",
        "                    dev_data,\n",
        "                    batch_size=eval_batch_size,\n",
        "                    batch_fn=batch_fn,\n",
        "                    prep_fn=prep_fn,\n",
        "                )\n",
        "                accuracies.append(accuracy)\n",
        "                print(\"iter %r: dev acc=%.4f\" % (iter_i, accuracy))\n",
        "\n",
        "                # save best model parameters\n",
        "                if accuracy > best_eval:\n",
        "                    print(\"new highscore\")\n",
        "                    best_eval = accuracy\n",
        "                    best_iter = iter_i\n",
        "                    path = \"{}.pt\".format(model.__class__.__name__)\n",
        "                    ckpt = {\n",
        "                        \"state_dict\": model.state_dict(),\n",
        "                        \"optimizer_state_dict\": optimizer.state_dict(),\n",
        "                        \"best_eval\": best_eval,\n",
        "                        \"best_iter\": best_iter,\n",
        "                    }\n",
        "                    torch.save(ckpt, path)\n",
        "\n",
        "            # done training\n",
        "            if iter_i == num_iterations:\n",
        "                print(\"Done training\")\n",
        "\n",
        "                # evaluate on train, dev, and test with best model\n",
        "                print(\"Loading best model\")\n",
        "                path = \"{}.pt\".format(model.__class__.__name__)\n",
        "                ckpt = torch.load(path)\n",
        "                model.load_state_dict(ckpt[\"state_dict\"])\n",
        "\n",
        "                _, _, train_acc = eval_fn(\n",
        "                    model,\n",
        "                    train_data,\n",
        "                    batch_size=eval_batch_size,\n",
        "                    batch_fn=batch_fn,\n",
        "                    prep_fn=prep_fn,\n",
        "                )\n",
        "                _, _, dev_acc = eval_fn(\n",
        "                    model,\n",
        "                    dev_data,\n",
        "                    batch_size=eval_batch_size,\n",
        "                    batch_fn=batch_fn,\n",
        "                    prep_fn=prep_fn,\n",
        "                )\n",
        "                _, _, test_acc = eval_fn(\n",
        "                    model,\n",
        "                    test_data,\n",
        "                    batch_size=eval_batch_size,\n",
        "                    batch_fn=batch_fn,\n",
        "                    prep_fn=prep_fn,\n",
        "                )\n",
        "\n",
        "                print(\n",
        "                    \"best model iter {:d}: \"\n",
        "                    \"train acc={:.4f}, dev acc={:.4f}, test acc={:.4f}\".format(\n",
        "                        best_iter, train_acc, dev_acc, test_acc\n",
        "                    )\n",
        "                )\n",
        "\n",
        "                return losses, accuracies"
      ]
    },
    {
      "cell_type": "markdown",
      "metadata": {
        "id": "XEPsLvI-3D5b"
      },
      "source": [
        "### Training the BOW model"
      ]
    },
    {
      "cell_type": "code",
      "execution_count": 18,
      "metadata": {
        "id": "9luJnNuN_d3q"
      },
      "outputs": [
        {
          "name": "stdout",
          "output_type": "stream",
          "text": [
            "BOW(\n",
            "  (embed): Embedding(18280, 5)\n",
            ")\n",
            "Iter 1000: loss=5881.0013, time=11.48s\n",
            "iter 1000: dev acc=0.2271\n",
            "new highscore\n",
            "Iter 2000: loss=5420.0493, time=23.86s\n",
            "iter 2000: dev acc=0.2289\n",
            "new highscore\n",
            "Iter 3000: loss=5134.7077, time=35.68s\n",
            "iter 3000: dev acc=0.2243\n",
            "Iter 4000: loss=4692.5428, time=47.64s\n",
            "iter 4000: dev acc=0.2271\n",
            "Iter 5000: loss=4477.0143, time=59.41s\n",
            "iter 5000: dev acc=0.2243\n",
            "Iter 6000: loss=4524.7898, time=71.20s\n",
            "iter 6000: dev acc=0.2289\n",
            "Iter 7000: loss=4412.2807, time=82.98s\n",
            "iter 7000: dev acc=0.2298\n",
            "new highscore\n",
            "Iter 8000: loss=4256.4203, time=94.76s\n",
            "iter 8000: dev acc=0.2334\n",
            "new highscore\n",
            "Iter 9000: loss=4446.4242, time=106.54s\n",
            "iter 9000: dev acc=0.2380\n",
            "new highscore\n",
            "Iter 10000: loss=4086.8191, time=118.38s\n",
            "iter 10000: dev acc=0.2407\n",
            "new highscore\n",
            "Done training\n",
            "Loading best model\n",
            "best model iter 10000: train acc=0.2474, dev acc=0.2407, test acc=0.2434\n"
          ]
        }
      ],
      "source": [
        "# If everything is in place we can now train our first model!\n",
        "\n",
        "bow_model = BOW(len(v.w2i), len(t2i), vocab=v)\n",
        "print(bow_model)\n",
        "\n",
        "bow_model = bow_model.to(device)\n",
        "\n",
        "optimizer = optim.Adam(bow_model.parameters(), lr=0.0005)\n",
        "\n",
        "bow_losses, bow_accuracies = train_model(\n",
        "    bow_model, optimizer, num_iterations=10000, print_every=1000, eval_every=1000\n",
        ")"
      ]
    },
    {
      "cell_type": "code",
      "execution_count": 10,
      "metadata": {
        "id": "dvYLj8LIAzfS"
      },
      "outputs": [
        {
          "ename": "NameError",
          "evalue": "name 'bow_accuracies' is not defined",
          "output_type": "error",
          "traceback": [
            "\u001b[0;31m---------------------------------------------------------------------------\u001b[0m",
            "\u001b[0;31mNameError\u001b[0m                                 Traceback (most recent call last)",
            "\u001b[1;32m/Users/Matey/Documents/Obsidian/University/Courses/NLP/Practicals/NLP1_2023_Prac_2_st.ipynb Cell 44\u001b[0m line \u001b[0;36m2\n\u001b[1;32m      <a href='vscode-notebook-cell:/Users/Matey/Documents/Obsidian/University/Courses/NLP/Practicals/NLP1_2023_Prac_2_st.ipynb#Y105sZmlsZQ%3D%3D?line=0'>1</a>\u001b[0m \u001b[39m# This will plot the validation accuracies across time.\u001b[39;00m\n\u001b[0;32m----> <a href='vscode-notebook-cell:/Users/Matey/Documents/Obsidian/University/Courses/NLP/Practicals/NLP1_2023_Prac_2_st.ipynb#Y105sZmlsZQ%3D%3D?line=1'>2</a>\u001b[0m plt\u001b[39m.\u001b[39mplot(bow_accuracies)\n\u001b[1;32m      <a href='vscode-notebook-cell:/Users/Matey/Documents/Obsidian/University/Courses/NLP/Practicals/NLP1_2023_Prac_2_st.ipynb#Y105sZmlsZQ%3D%3D?line=2'>3</a>\u001b[0m plt\u001b[39m.\u001b[39mtitle(\u001b[39m\"\u001b[39m\u001b[39mValidation accuracy\u001b[39m\u001b[39m\"\u001b[39m)\n\u001b[1;32m      <a href='vscode-notebook-cell:/Users/Matey/Documents/Obsidian/University/Courses/NLP/Practicals/NLP1_2023_Prac_2_st.ipynb#Y105sZmlsZQ%3D%3D?line=3'>4</a>\u001b[0m plt\u001b[39m.\u001b[39mshow()\n",
            "\u001b[0;31mNameError\u001b[0m: name 'bow_accuracies' is not defined"
          ]
        }
      ],
      "source": [
        "# This will plot the validation accuracies across time.\n",
        "plt.plot(bow_accuracies)\n",
        "plt.title(\"Validation accuracy\")\n",
        "plt.show()\n",
        "# This will plot the training loss over time.\n",
        "plt.plot(bow_losses)\n",
        "plt.title(\"Training loss\");"
      ]
    },
    {
      "cell_type": "markdown",
      "metadata": {
        "id": "Psxh-Le1BMDQ"
      },
      "source": [
        "Please note that we set the number of iterations to 30K as an indicative value, after which we simply stop training without checking for convergence. You should choose an appropriate number of iterations and motivate your decision. **This holds for all pre-set numbers of iteration in the following code blocks.**"
      ]
    },
    {
      "cell_type": "markdown",
      "metadata": {
        "id": "E9mB1_XhMPNN"
      },
      "source": [
        "# CBOW"
      ]
    },
    {
      "cell_type": "markdown",
      "metadata": {
        "id": "pWk78FvNMw4o"
      },
      "source": [
        "We now continue with a **continuous bag-of-words (CBOW)** model. (*This is not the same as the word2vec CBOW model!*)\n",
        "\n",
        "It is similar to the BOW model above, but now embeddings can have a dimension of *arbitrary size*.\n",
        "This means that we can choose a higher dimensionality and learn more aspects of each word. We will still sum word vectors to get a sentence representation, but now the size of the resulting vector will no longer correspond to the number of sentiment classes.\n",
        "\n",
        "So to turn the size of our summed vector into the number of output classes, we can *learn* a parameter matrix $W$ and multiply it by the sum vector $x$: $$Wx$$\n",
        "If the size of $x$ is `d x 1`, we can set $W$ to be `5 x d`, so that the output of the matrix multiplication will be the of the desired size, `5 x 1`. Then, just like for the BOW model, we can obtain a prediction using the argmax function."
      ]
    },
    {
      "cell_type": "markdown",
      "metadata": {
        "id": "gIjrCPfCwsXI"
      },
      "source": [
        "## Exercise: implement and train the CBOW model\n",
        "\n",
        "Write a class `CBOW` that:\n",
        "\n",
        "- has word embeddings with size 300\n",
        "- sums the word vectors for the input words (just like in `BOW`)\n",
        "- projects the resulting vector down to 5 units using a linear layer and a bias term (check out `nn.Linear`)\n",
        "\n",
        "Train your CBOW model and plot the validation accuracy and training loss over time."
      ]
    },
    {
      "cell_type": "code",
      "execution_count": null,
      "metadata": {
        "id": "PEV22aR2MP0Q"
      },
      "outputs": [],
      "source": [
        "# YOUR CODE HERE\n",
        "\n",
        "class CBOW(nn.Module):\n",
        "    \"\"\"Continuous bag-of-words model\"\"\"\n",
        "\n",
        "    def __init__(self, vocab: Vocabulary, embedding_dim=300, output_dim=5):\n",
        "        super(CBOW, self).__init__()\n",
        "        self.vocab = vocab\n",
        "        self.vocab_size = len(vocab.i2w)\n",
        "\n",
        "        # this is a trainable look-up table with word embeddings\n",
        "        self.embed = nn.Embedding(vocab_size, embedding_dim)\n",
        "\n",
        "        # this is a trainable bias term\n",
        "        self.linear = nn.Linear(embedding_dim, output_dim)\n",
        "\n",
        "    def forward(self, inputs):\n",
        "\n",
        "        # this looks up the embeddings for each word ID in inputs\n",
        "        # the result is a sequence of word embeddings\n",
        "        embeds = self.embed(inputs)\n",
        "\n",
        "        logits = self.linear(embeds)\n",
        "        logits = logits.sum(dim=1)\n",
        "\n",
        "        return logits"
      ]
    },
    {
      "cell_type": "code",
      "execution_count": null,
      "metadata": {},
      "outputs": [
        {
          "name": "stdout",
          "output_type": "stream",
          "text": [
            "Iter 1000: loss=2866.1762, time=30.29s\n",
            "iter 1000: dev acc=0.2825\n",
            "new highscore\n",
            "Iter 2000: loss=2595.2068, time=51.71s\n",
            "iter 2000: dev acc=0.2752\n",
            "Iter 3000: loss=2555.3967, time=72.47s\n",
            "iter 3000: dev acc=0.2788\n",
            "Iter 4000: loss=2535.1509, time=92.99s\n",
            "iter 4000: dev acc=0.3097\n",
            "new highscore\n",
            "Iter 5000: loss=2363.1134, time=113.26s\n",
            "iter 5000: dev acc=0.2943\n",
            "Iter 6000: loss=2511.2255, time=132.75s\n",
            "iter 6000: dev acc=0.2716\n",
            "Iter 7000: loss=2252.4505, time=152.61s\n",
            "iter 7000: dev acc=0.2997\n",
            "Iter 8000: loss=2387.1566, time=172.85s\n",
            "iter 8000: dev acc=0.2788\n",
            "Iter 9000: loss=2161.4828, time=193.81s\n",
            "iter 9000: dev acc=0.2934\n",
            "Iter 10000: loss=1935.2722, time=216.20s\n",
            "iter 10000: dev acc=0.3070\n",
            "Iter 11000: loss=1850.7220, time=252.32s\n",
            "iter 11000: dev acc=0.3088\n",
            "Iter 12000: loss=1964.2101, time=296.86s\n",
            "iter 12000: dev acc=0.3288\n",
            "new highscore\n",
            "Iter 13000: loss=1899.9055, time=325.04s\n",
            "iter 13000: dev acc=0.3397\n",
            "new highscore\n",
            "Iter 14000: loss=1906.5307, time=354.15s\n",
            "iter 14000: dev acc=0.3043\n",
            "Iter 15000: loss=2054.5925, time=386.36s\n",
            "iter 15000: dev acc=0.3079\n",
            "Iter 16000: loss=1971.8172, time=409.45s\n",
            "iter 16000: dev acc=0.3052\n",
            "Iter 17000: loss=2122.5607, time=428.68s\n",
            "iter 17000: dev acc=0.3197\n",
            "Iter 18000: loss=1262.7716, time=446.70s\n",
            "iter 18000: dev acc=0.3270\n",
            "Iter 19000: loss=1283.0396, time=465.35s\n",
            "iter 19000: dev acc=0.3043\n",
            "Iter 20000: loss=1467.8366, time=484.91s\n",
            "iter 20000: dev acc=0.3270\n",
            "Iter 21000: loss=1462.7846, time=504.78s\n",
            "iter 21000: dev acc=0.3342\n",
            "Iter 22000: loss=1617.0764, time=526.25s\n",
            "iter 22000: dev acc=0.3506\n",
            "new highscore\n",
            "Iter 23000: loss=1455.3927, time=546.68s\n",
            "iter 23000: dev acc=0.3179\n",
            "Iter 24000: loss=1560.2526, time=564.56s\n",
            "iter 24000: dev acc=0.3124\n",
            "Iter 25000: loss=1666.0407, time=582.23s\n",
            "iter 25000: dev acc=0.3261\n",
            "Iter 26000: loss=1408.5417, time=601.47s\n",
            "iter 26000: dev acc=0.3243\n",
            "Iter 27000: loss=1007.9591, time=619.15s\n",
            "iter 27000: dev acc=0.3415\n",
            "Iter 28000: loss=942.0036, time=636.81s\n",
            "iter 28000: dev acc=0.3270\n",
            "Iter 29000: loss=999.9162, time=655.38s\n",
            "iter 29000: dev acc=0.3279\n",
            "Iter 30000: loss=1028.7181, time=672.86s\n",
            "iter 30000: dev acc=0.3361\n",
            "Done training\n",
            "Loading best model\n",
            "best model iter 22000: train acc=0.6788, dev acc=0.3506, test acc=0.3498\n"
          ]
        }
      ],
      "source": [
        "cbow_model = CBOW(vocab=v, embedding_dim=300, output_dim=len(t2i))\n",
        "\n",
        "cbow_model = cbow_model.to(device)\n",
        "\n",
        "optimizer = optim.Adam(cbow_model.parameters(), lr=0.001)\n",
        "bow_losses, bow_accuracies = train_model(\n",
        "    cbow_model, optimizer, num_iterations=30000, print_every=1000, eval_every=1000\n",
        ")"
      ]
    },
    {
      "cell_type": "markdown",
      "metadata": {
        "id": "zpFt_Fo2TdN0"
      },
      "source": [
        "# Deep CBOW"
      ]
    },
    {
      "cell_type": "markdown",
      "metadata": {
        "id": "iZanOMesTfEZ"
      },
      "source": [
        "To see if we can squeeze some more performance out of the CBOW model, we can make it deeper and non-linear by adding more layers and, e.g., tanh-activations.\n",
        "By using more parameters we can learn more aspects of the data, and by using more layers and non-linearities, we can try to learn a more complex function.\n",
        "This is not something that always works. If the input-output mapping of your data is simple, then a complicated function could easily overfit on your training set, thereby leading to poor generalization.\n",
        "\n",
        "#### Exercise: write Deep CBOW class and train it\n",
        "\n",
        "Write a class `DeepCBOW`.\n",
        "\n",
        "In your code, make sure that your `output_layer` consists of the following:\n",
        "- A linear transformation from E units to D units.\n",
        "- A Tanh activation\n",
        "- A linear transformation from D units to D units\n",
        "- A Tanh activation\n",
        "- A linear transformation from D units to 5 units (our output classes).\n",
        "\n",
        "E is the size of the word embeddings (please use E=300) and D for the size of a hidden layer (please use D=100).\n",
        "\n",
        "We recommend using [nn.Sequential](https://pytorch.org/docs/stable/nn.html?highlight=sequential#torch.nn.Sequential) to implement this exercise."
      ]
    },
    {
      "cell_type": "code",
      "execution_count": 24,
      "metadata": {
        "id": "l8Z1igvpTrZq"
      },
      "outputs": [],
      "source": [
        "# YOUR CODE HERE\n",
        "\n",
        "class DeepCBOW(nn.Module):\n",
        "    \"\"\"Continuous bag-of-words model\"\"\"\n",
        "\n",
        "    def __init__(self, vocab: Vocabulary, embedding_dim=300, output_dim=5, hiddens=[100, 100]):\n",
        "        super(DeepCBOW, self).__init__()\n",
        "        self.vocab = vocab\n",
        "        self.vocab_size = len(vocab.i2w)\n",
        "\n",
        "        # this is a trainable look-up table with word embeddings\n",
        "        self.embed = nn.Embedding(self.vocab_size, embedding_dim)\n",
        "\n",
        "        hiddens = [embedding_dim] + hiddens\n",
        "        layers = []\n",
        "        for i in range(len(hiddens)-1):\n",
        "            layers.append(nn.Linear(hiddens[i], hiddens[i+1]))\n",
        "            layers.append(nn.Tanh())\n",
        "\n",
        "        layers.append(nn.Linear(hiddens[-1], output_dim))\n",
        "        self.layers = nn.Sequential(*layers)\n",
        "\n",
        "    def forward(self, inputs):\n",
        "        # this looks up the embeddings for each word ID in inputs\n",
        "        # the result is a sequence of word embeddings\n",
        "        embeds = self.embed(inputs)\n",
        "\n",
        "        logits = self.layers(embeds)\n",
        "        logits = logits.sum(dim=1)\n",
        "\n",
        "        return logits"
      ]
    },
    {
      "cell_type": "code",
      "execution_count": null,
      "metadata": {},
      "outputs": [
        {
          "name": "stdout",
          "output_type": "stream",
          "text": [
            "Iter 1000: loss=2909.7695, time=11.73s\n",
            "iter 1000: dev acc=0.2480\n",
            "new highscore\n",
            "Iter 2000: loss=2604.0686, time=28.09s\n",
            "iter 2000: dev acc=0.2634\n",
            "new highscore\n",
            "Iter 3000: loss=2422.3234, time=47.05s\n",
            "iter 3000: dev acc=0.2825\n",
            "new highscore\n",
            "Iter 4000: loss=2506.4223, time=64.55s\n",
            "iter 4000: dev acc=0.2679\n",
            "Iter 5000: loss=2346.5414, time=81.87s\n",
            "iter 5000: dev acc=0.3034\n",
            "new highscore\n",
            "Iter 6000: loss=2455.9478, time=99.17s\n",
            "iter 6000: dev acc=0.2579\n",
            "Iter 7000: loss=2397.6441, time=116.34s\n",
            "iter 7000: dev acc=0.2825\n",
            "Iter 8000: loss=2289.0284, time=133.48s\n",
            "iter 8000: dev acc=0.3061\n",
            "new highscore\n",
            "Iter 9000: loss=2185.7146, time=150.72s\n",
            "iter 9000: dev acc=0.2952\n",
            "Iter 10000: loss=1876.0131, time=167.75s\n",
            "iter 10000: dev acc=0.2743\n",
            "Iter 11000: loss=1879.7546, time=185.42s\n",
            "iter 11000: dev acc=0.2825\n",
            "Iter 12000: loss=1944.3489, time=202.59s\n",
            "iter 12000: dev acc=0.3034\n",
            "Iter 13000: loss=1915.3332, time=219.94s\n",
            "iter 13000: dev acc=0.3252\n",
            "new highscore\n",
            "Iter 14000: loss=1978.9050, time=237.47s\n",
            "iter 14000: dev acc=0.3243\n",
            "Iter 15000: loss=2014.8512, time=254.59s\n",
            "iter 15000: dev acc=0.3479\n",
            "new highscore\n",
            "Iter 16000: loss=1986.1070, time=271.53s\n",
            "iter 16000: dev acc=0.2970\n",
            "Iter 17000: loss=1960.1193, time=288.40s\n",
            "iter 17000: dev acc=0.2997\n",
            "Iter 18000: loss=1401.5966, time=305.30s\n",
            "iter 18000: dev acc=0.3224\n",
            "Iter 19000: loss=1281.4724, time=322.30s\n",
            "iter 19000: dev acc=0.3451\n",
            "Iter 20000: loss=1488.9579, time=339.35s\n",
            "iter 20000: dev acc=0.3006\n",
            "Iter 21000: loss=1457.4223, time=357.74s\n",
            "iter 21000: dev acc=0.3134\n",
            "Iter 22000: loss=1555.1451, time=374.07s\n",
            "iter 22000: dev acc=0.3460\n",
            "Iter 23000: loss=1490.8977, time=391.96s\n",
            "iter 23000: dev acc=0.3515\n",
            "new highscore\n",
            "Iter 24000: loss=1586.6410, time=410.14s\n",
            "iter 24000: dev acc=0.3115\n",
            "Iter 25000: loss=1625.0525, time=427.39s\n",
            "iter 25000: dev acc=0.3179\n",
            "Iter 26000: loss=1342.1438, time=444.10s\n",
            "iter 26000: dev acc=0.3306\n",
            "Iter 27000: loss=856.3688, time=460.64s\n",
            "iter 27000: dev acc=0.3061\n",
            "Iter 28000: loss=988.4083, time=477.36s\n",
            "iter 28000: dev acc=0.3424\n",
            "Iter 29000: loss=985.8723, time=493.96s\n",
            "iter 29000: dev acc=0.3306\n",
            "Iter 30000: loss=1095.2344, time=511.04s\n",
            "iter 30000: dev acc=0.3224\n",
            "Done training\n",
            "Loading best model\n",
            "best model iter 23000: train acc=0.6820, dev acc=0.3515, test acc=0.3538\n"
          ]
        }
      ],
      "source": [
        "cbow_model = CBOW(vocab=v, embedding_dim=300, output_dim=len(t2i))\n",
        "\n",
        "cbow_model = cbow_model.to(device)\n",
        "\n",
        "optimizer = optim.Adam(cbow_model.parameters(), lr=0.001)\n",
        "bow_losses, bow_accuracies = train_model(\n",
        "    cbow_model, optimizer, num_iterations=30000, print_every=1000, eval_every=1000\n",
        ")"
      ]
    },
    {
      "cell_type": "code",
      "execution_count": null,
      "metadata": {},
      "outputs": [
        {
          "data": {
            "text/plain": [
              "Text(0.5, 1.0, 'Loss')"
            ]
          },
          "execution_count": 69,
          "metadata": {},
          "output_type": "execute_result"
        },
        {
          "data": {
            "image/png": "[encoded data removed]",
            "text/plain": [
              "<Figure size 1000x500 with 2 Axes>"
            ]
          },
          "metadata": {},
          "output_type": "display_data"
        }
      ],
      "source": [
        "fix, axs = plt.subplots(1, 2, figsize=(10, 5))\n",
        "axs[0].plot(bow_accuracies)\n",
        "axs[0].set_title(\"Accuracy\")\n",
        "axs[1].plot(bow_losses)\n",
        "axs[1].set_title(\"Loss\")"
      ]
    },
    {
      "cell_type": "markdown",
      "metadata": {
        "id": "MQZ5flHwiiHY"
      },
      "source": [
        "# Pre-trained word embeddings"
      ]
    },
    {
      "cell_type": "markdown",
      "metadata": {
        "id": "9NX35vecmHy6"
      },
      "source": [
        "The Stanford Sentiment Treebank is a rather small data set, since it required fine-grained manual annotatation. This makes it difficult for the Deep CBOW model to learn good word embeddings, i.e. to learn good word representations for the words in our vocabulary.\n",
        "In fact, the only error signal that the network receives is from predicting the sentiment of entire sentences!\n",
        "\n",
        "To start off with better word representations, we can download **pre-trained word embeddings**.\n",
        "You can choose which pre-trained word embeddings to use:\n",
        "\n",
        "- **GloVe**. The \"original\" Stanford Sentiment classification [paper](http://aclweb.org/anthology/P/P15/P15-1150.pdf) used Glove embeddings, which are just another method (like *word2vec*) to get word embeddings from unannotated text. Glove is described in the following paper which you should cite if you use them:\n",
        "> Jeffrey Pennington, Richard Socher, and Christopher Manning. [\"Glove: Global vectors for word representation.\"](https://nlp.stanford.edu/pubs/glove.pdf) EMNLP 2014.\n",
        "\n",
        "- **Word2Vec**. This is the method that you learned about in class, described in:\n",
        "> Mikolov, Tomas, et al. [\"Distributed representations of words and phrases and their compositionality.\"](https://papers.nips.cc/paper/5021-distributed-representations-of-words-and-phrases-and-their-compositionality.pdf) Advances in neural information processing systems. 2013.\n",
        "\n",
        "Using these pre-trained word embeddings, we can initialize our word embedding lookup table and start form a point where similar words are already close to one another in the distributional semantic space.\n",
        "\n",
        "You can choose to keep the word embeddings **fixed** or to train them further, specialising them to the task at hand.\n",
        "We will keep them fixed for now.\n",
        "\n",
        "For the purposes of this lab, it is enough if you understand how word2vec works (whichever vectors you use), but if you are interested, we encourage you to also check out the GloVe paper.\n",
        "\n",
        "You can either download the word2vec vectors, or the Glove vectors.\n",
        "If you want to compare your results to the Stanford paper later on, then you should use Glove.\n",
        "**At the end of this lab you have the option to compare which vectors give you the best performance. For now, simply choose one of them and continue with that.**\n",
        "\n",
        "[**OPTIONAL in case you don't want to mount Google Drive:** instead of running all the 5 boxes below, you can 1) download the GloVe and word2vec in your local machine, 2) upload them on your Drive folder (\"My Drive\"). Then, uncomment the first 2 lines in box 6 before writing your code!]\n"
      ]
    },
    {
      "cell_type": "markdown",
      "metadata": {},
      "source": [
        "## **We opt to use Word2Vec as a more robust method for word embeddings for this task. We would like, however, to later experiment on the GloVe embeddings as well, in order to compare our results with the original paper.**"
      ]
    },
    {
      "cell_type": "code",
      "execution_count": 43,
      "metadata": {
        "id": "lGYr02WWO993"
      },
      "outputs": [
        {
          "ename": "ImportError",
          "evalue": "cannot import name 'load_embeddings' from 'practical2.utils' (/Users/Matey/Documents/Obsidian/University/Courses/NLP/Practicals/practical2/utils.py)",
          "output_type": "error",
          "traceback": [
            "\u001b[0;31m---------------------------------------------------------------------------\u001b[0m",
            "\u001b[0;31mImportError\u001b[0m                               Traceback (most recent call last)",
            "\u001b[1;32m/Users/Matey/Documents/Obsidian/University/Courses/NLP/Practicals/NLP1_2023_Prac_2_st.ipynb Cell 59\u001b[0m line \u001b[0;36m9\n\u001b[1;32m      <a href='vscode-notebook-cell:/Users/Matey/Documents/Obsidian/University/Courses/NLP/Practicals/NLP1_2023_Prac_2_st.ipynb#Y130sZmlsZQ%3D%3D?line=0'>1</a>\u001b[0m \u001b[39m# This downloads the Glove 840B 300d embeddings.\u001b[39;00m\n\u001b[1;32m      <a href='vscode-notebook-cell:/Users/Matey/Documents/Obsidian/University/Courses/NLP/Practicals/NLP1_2023_Prac_2_st.ipynb#Y130sZmlsZQ%3D%3D?line=1'>2</a>\u001b[0m \u001b[39m# The original file is at http://nlp.stanford.edu/data/glove.840B.300d.zip\u001b[39;00m\n\u001b[1;32m      <a href='vscode-notebook-cell:/Users/Matey/Documents/Obsidian/University/Courses/NLP/Practicals/NLP1_2023_Prac_2_st.ipynb#Y130sZmlsZQ%3D%3D?line=2'>3</a>\u001b[0m \u001b[39m# Since that file is 2GB, we provide you with a *filtered version*\u001b[39;00m\n\u001b[0;32m   (...)\u001b[0m\n\u001b[1;32m      <a href='vscode-notebook-cell:/Users/Matey/Documents/Obsidian/University/Courses/NLP/Practicals/NLP1_2023_Prac_2_st.ipynb#Y130sZmlsZQ%3D%3D?line=5'>6</a>\u001b[0m \u001b[39m# You only need to do this once.\u001b[39;00m\n\u001b[1;32m      <a href='vscode-notebook-cell:/Users/Matey/Documents/Obsidian/University/Courses/NLP/Practicals/NLP1_2023_Prac_2_st.ipynb#Y130sZmlsZQ%3D%3D?line=6'>7</a>\u001b[0m \u001b[39m# Please comment this cell out after downloading.\u001b[39;00m\n\u001b[0;32m----> <a href='vscode-notebook-cell:/Users/Matey/Documents/Obsidian/University/Courses/NLP/Practicals/NLP1_2023_Prac_2_st.ipynb#Y130sZmlsZQ%3D%3D?line=8'>9</a>\u001b[0m \u001b[39mfrom\u001b[39;00m \u001b[39mpractical2\u001b[39;00m\u001b[39m.\u001b[39;00m\u001b[39mutils\u001b[39;00m \u001b[39mimport\u001b[39;00m load_embeddings\n\u001b[1;32m     <a href='vscode-notebook-cell:/Users/Matey/Documents/Obsidian/University/Courses/NLP/Practicals/NLP1_2023_Prac_2_st.ipynb#Y130sZmlsZQ%3D%3D?line=11'>12</a>\u001b[0m glove_path \u001b[39m=\u001b[39m load_embeddings(\u001b[39m\"\u001b[39m\u001b[39mglove\u001b[39m\u001b[39m\"\u001b[39m)\n\u001b[1;32m     <a href='vscode-notebook-cell:/Users/Matey/Documents/Obsidian/University/Courses/NLP/Practicals/NLP1_2023_Prac_2_st.ipynb#Y130sZmlsZQ%3D%3D?line=12'>13</a>\u001b[0m \u001b[39m# This downloads the word2vec 300D Google News vectors\u001b[39;00m\n\u001b[1;32m     <a href='vscode-notebook-cell:/Users/Matey/Documents/Obsidian/University/Courses/NLP/Practicals/NLP1_2023_Prac_2_st.ipynb#Y130sZmlsZQ%3D%3D?line=13'>14</a>\u001b[0m \u001b[39m# The file has been truncated to only contain words that appear in our data set.\u001b[39;00m\n\u001b[1;32m     <a href='vscode-notebook-cell:/Users/Matey/Documents/Obsidian/University/Courses/NLP/Practicals/NLP1_2023_Prac_2_st.ipynb#Y130sZmlsZQ%3D%3D?line=14'>15</a>\u001b[0m \u001b[39m# You can find the original file here: https://code.google.com/archive/p/word2vec/\u001b[39;00m\n\u001b[1;32m     <a href='vscode-notebook-cell:/Users/Matey/Documents/Obsidian/University/Courses/NLP/Practicals/NLP1_2023_Prac_2_st.ipynb#Y130sZmlsZQ%3D%3D?line=15'>16</a>\u001b[0m \n\u001b[1;32m     <a href='vscode-notebook-cell:/Users/Matey/Documents/Obsidian/University/Courses/NLP/Practicals/NLP1_2023_Prac_2_st.ipynb#Y130sZmlsZQ%3D%3D?line=16'>17</a>\u001b[0m \u001b[39m# You only need to do this once.\u001b[39;00m\n\u001b[1;32m     <a href='vscode-notebook-cell:/Users/Matey/Documents/Obsidian/University/Courses/NLP/Practicals/NLP1_2023_Prac_2_st.ipynb#Y130sZmlsZQ%3D%3D?line=17'>18</a>\u001b[0m \u001b[39m# Please comment this out after downloading.\u001b[39;00m\n",
            "\u001b[0;31mImportError\u001b[0m: cannot import name 'load_embeddings' from 'practical2.utils' (/Users/Matey/Documents/Obsidian/University/Courses/NLP/Practicals/practical2/utils.py)"
          ]
        }
      ],
      "source": [
        "# This downloads the Glove 840B 300d embeddings.\n",
        "# The original file is at http://nlp.stanford.edu/data/glove.840B.300d.zip\n",
        "# Since that file is 2GB, we provide you with a *filtered version*\n",
        "# which contains all the words you need for this data set.\n",
        "\n",
        "# You only need to do this once.\n",
        "# Please comment this cell out after downloading.\n",
        "glove_path = load_embeddings(\"glove\")\n",
        "# This downloads the word2vec 300D Google News vectors\n",
        "# The file has been truncated to only contain words that appear in our data set.\n",
        "# You can find the original file here: https://code.google.com/archive/p/word2vec/\n",
        "\n",
        "# You only need to do this once.\n",
        "# Please comment this out after downloading.\n",
        "word2vec_path = load_embeddings(\"word2vec\")"
      ]
    },
    {
      "cell_type": "code",
      "execution_count": 26,
      "metadata": {
        "id": "kUMH0bM6BuY9"
      },
      "outputs": [],
      "source": [
        "# Copy word vectors *to* Google Drive\n",
        "\n",
        "# Mount Google Drive (to save the downloaded files)\n",
        "# from google.colab import drive\n",
        "\n",
        "# drive.mount(\"/gdrive\")\n",
        "\n",
        "# You only need to do this once.\n",
        "# Please comment this out after running it.\n",
        "# !cp \"glove.840B.300d.sst.txt\" \"/gdrive/My Drive/\"\n",
        "# !cp \"googlenews.word2vec.300d.txt\" \"/gdrive/My Drive/\"\n",
        "\n",
        "# If you copied the word vectors to your Drive before,\n",
        "# here is where you copy them back to the Colab notebook.\n",
        "\n",
        "# Copy Glove vectors *from* Google Drive\n",
        "# !cp \"/gdrive/My Drive/glove.840B.300d.sst.txt\" .\n",
        "# !cp \"/gdrive/My Drive/googlenews.word2vec.300d.txt\" ."
      ]
    },
    {
      "cell_type": "markdown",
      "metadata": {
        "id": "MX2GJVHILM8n"
      },
      "source": [
        "At this point you have the pre-trained word embedding files, but what do they look like?"
      ]
    },
    {
      "cell_type": "code",
      "execution_count": 12,
      "metadata": {
        "id": "ChsChH14Ruxn"
      },
      "outputs": [
        {
          "name": "stdout",
          "output_type": "stream",
          "text": [
            "Word2Vec (Google News)\n",
            "in 0.0703125 0.08691406 0.087890625 0.0625 0.06933594 -0.10888672 -0.08154297 -0.15429688 0.020751953 0.13183594 -0.11376953 -0.037353516 0.06933594 0.078125 -0.103027344 -0.09765625 0.044189453 0.10253906 -0.060791016 -0.036132812 -0.045410156 0.04736328 -0.12060547 -0.063964844 0.0022583008 0.037109375 -0.0029144287 0.11767578 0.061767578 0.063964844 0.08105469 -0.068847656 -0.021362305 0.05517578 -0.08544922 0.068847656 -0.12792969 -0.033203125 0.09863281 0.17578125 0.110839844 -0.03466797 -0.04711914 -0.008483887 0.035888672 0.103027344 0.026977539 -0.028686523 -0.005126953 0.10644531 0.059814453 0.09423828 0.033691406 -0.02709961 -0.09423828 0.0010299683 -0.048339844 0.034423828 0.08105469 -0.11328125 -0.08886719 0.035888672 -0.14550781 -0.24414062 -0.061523438 0.052978516 0.056884766 0.1796875 0.061035156 0.08691406 0.12402344 -0.040283203 0.022583008 0.17773438 -0.029663086 -0.029663086 0.1171875 0.03112793 -0.096191406 0.06640625 0.004699707 -0.080078125 0.06298828 -0.020629883 -0.0546875 -0.13574219 -0.06347656 0.083496094 -0.063964844 0.021484375 0.07714844 -0.037109375 -0.033691406 -0.18359375 -0.072753906 0.01586914 0.09326172 -0.061523438 -0.014221191 -0.0034484863 0.011108398 -0.15820312 -0.017089844 0.0061950684 -0.008728027 -0.080566406 -0.015258789 -0.087890625 0.003479004 -0.016113281 -0.012329102 0.09765625 -0.13964844 -0.0859375 -0.026855469 0.053955078 0.1328125 0.11279297 0.12109375 0.08544922 -0.0071105957 0.044677734 -0.14550781 -0.0032043457 -0.11767578 -0.06542969 0.07128906 -0.09423828 -0.030273438 0.12011719 0.080078125 -0.09472656 -0.16210938 -0.07763672 0.021240234 -0.08154297 0.0039367676 -0.15722656 -0.09814453 0.039794922 0.03930664 -0.009094238 0.103027344 0.067871094 -0.04272461 0.06347656 -0.049072266 0.020874023 -0.16699219 0.09326172 0.09375 0.006866455 0.053710938 0.052490234 -0.024414062 -0.032470703 -0.061523438 -0.005554199 0.096191406 0.037841797 0.012207031 -0.043945312 -0.0074768066 0.10546875 0.020385742 0.14550781 0.08203125 0.0057678223 0.0045776367 -0.09277344 -0.13867188 -0.057373047 -0.051513672 -0.13085938 -0.13964844 -0.020507812 -0.02709961 0.032714844 0.10498047 -0.0023345947 -0.022583008 0.00050354004 -0.110839844 0.08496094 -0.12988281 -0.017456055 -0.00035858154 0.107910156 0.08886719 0.044677734 0.025146484 0.023803711 0.08105469 0.02368164 -0.10986328 0.0053710938 -0.017700195 -0.033935547 -0.032958984 -0.1640625 0.095703125 -0.018310547 0.0053100586 -0.034423828 -0.044189453 -0.06640625 -0.017944336 -0.029663086 -0.007598877 -0.05126953 -0.05419922 0.08935547 -0.071777344 0.015258789 -0.08251953 -0.03173828 0.03564453 -0.021240234 -0.059326172 -0.013061523 0.046875 0.023071289 0.020996094 -0.07861328 -0.008056641 0.01953125 -0.005554199 0.041503906 0.027832031 0.01361084 0.03466797 -0.18261719 0.12011719 0.07421875 -0.041015625 -0.0099487305 0.04296875 -0.007293701 0.123046875 0.057617188 -0.053466797 -0.032226562 -0.009094238 -0.04663086 0.043945312 -0.05078125 0.068847656 0.0029907227 -0.004180908 -0.044189453 0.07373047 -0.012756348 0.06738281 0.006286621 0.07519531 -0.037841797 0.0048828125 0.044677734 -0.06738281 0.00970459 0.0047302246 0.020507812 0.07128906 0.17089844 0.17382812 0.055664062 0.091308594 -0.037353516 0.049804688 -0.03930664 0.044189453 0.0625 0.048583984 -0.053222656 0.048828125 -0.13085938 -0.028930664 -0.036132812 -0.060791016 -0.057373047 0.123046875 -0.08251953 -0.0119018555 0.125 0.0013580322 0.063964844 -0.10644531 -0.14355469 -0.042236328 0.024047852 -0.16894531 -0.08886719 -0.080566406 0.064941406 0.061279297 -0.04736328 -0.05883789 -0.047607422 0.014465332 -0.0625\n",
            "for -0.011779785 -0.04736328 0.044677734 0.06347656 -0.018188477 -0.063964844 -0.0013122559 -0.072265625 0.064453125 0.08642578 -0.16992188 -0.039794922 0.07128906 -0.025878906 0.018188477 0.13671875 0.14453125 -0.033691406 -0.09765625 -0.12011719 -0.079589844 0.0625 -0.06689453 0.07421875 0.022705078 0.033447266 -0.18066406 0.052001953 0.0138549805 0.09277344 0.0035095215 -0.009094238 -0.09716797 0.067871094 -0.0087890625 0.044189453 -0.13378906 -0.099609375 0.033203125 0.027954102 0.15527344 -0.017700195 0.014282227 -0.10986328 -0.08544922 -0.07324219 -0.024658203 0.17285156 0.061767578 0.08935547 -0.024291992 0.14160156 -0.032958984 0.02746582 -0.15527344 0.007873535 -0.07080078 0.043701172 0.006011963 -0.055908203 -0.14746094 0.028442383 -0.1328125 -0.17675781 -0.091308594 -0.05078125 -0.026000977 -0.1484375 -0.080566406 0.15039062 -0.04345703 0.07910156 0.033203125 0.09033203 0.022705078 -0.0625 0.1640625 0.0859375 -0.012390137 0.19628906 -0.06225586 0.022460938 -0.030151367 0.021240234 0.003326416 -0.055419922 -0.07324219 0.029785156 0.049804688 0.017456055 0.10449219 0.03881836 0.08496094 -0.24804688 0.06933594 -0.14941406 0.05834961 0.095703125 -0.033447266 0.06298828 0.021362305 -0.14550781 0.053710938 -0.09082031 -0.025390625 0.045410156 0.0053100586 -0.115722656 -0.01953125 0.12109375 0.032226562 0.09472656 -0.064453125 0.022705078 0.12060547 0.060302734 0.12060547 0.048828125 0.09326172 0.06689453 0.029296875 -0.034179688 -0.111328125 0.053466797 -0.025634766 0.017822266 0.06225586 -0.025878906 0.14550781 0.0625 0.107910156 -0.16308594 -0.09765625 -0.10595703 -0.08544922 -0.08886719 0.10107422 -0.079589844 0.008422852 0.024047852 0.13085938 0.05126953 0.08154297 0.09375 -0.05859375 -0.09667969 -0.028320312 -0.14550781 -0.14746094 0.14550781 -0.017578125 0.032958984 -0.08544922 -0.010986328 -0.037109375 -0.013671875 0.035888672 -0.008239746 0.05029297 -0.09472656 0.047851562 0.020751953 0.030639648 0.12988281 0.052734375 0.018798828 -0.017578125 0.03491211 0.018310547 -0.009887695 -0.18457031 -0.08984375 -0.029052734 -0.060791016 -0.05126953 -0.0023651123 0.06640625 -0.08251953 -0.040039062 0.096191406 -0.15429688 -0.15332031 0.028320312 0.013122559 0.029907227 -0.012145996 -0.09667969 0.024780273 0.19335938 0.013000488 0.024169922 -0.035888672 0.09863281 -0.09667969 -0.20019531 -0.013793945 0.0859375 -0.080078125 -0.17675781 -0.17480469 0.005126953 -0.03491211 -0.0546875 0.09375 -0.09326172 -0.011962891 -0.0005645752 0.09765625 0.024780273 -0.039794922 0.009765625 0.11816406 0.025756836 0.123046875 0.064453125 0.07080078 0.029296875 -0.049560547 -0.078125 0.028930664 0.045654297 -0.04296875 0.025878906 -0.051757812 0.140625 0.004272461 -0.037841797 0.02746582 0.060058594 0.028320312 0.028076172 -0.036621094 0.13085938 -9.679794e-05 -0.06933594 -0.022094727 0.067871094 -0.02331543 -0.015319824 -0.05834961 0.061035156 0.00064468384 0.0039978027 -0.07128906 0.091796875 0.026245117 0.020019531 0.03540039 -0.057861328 -0.029663086 0.02734375 0.025146484 0.060302734 0.13183594 -0.0043640137 0.0027313232 0.059814453 0.09863281 -0.091796875 -0.045898438 -0.017456055 0.038330078 -0.019165039 0.04638672 0.047851562 0.09814453 -0.040283203 0.09423828 -0.03466797 -0.042236328 0.0703125 -0.013671875 0.10644531 0.016479492 0.13183594 -0.0016937256 -0.008483887 -0.14257812 -0.04663086 -0.10986328 0.08203125 -0.041015625 -0.018920898 0.087890625 -0.0028076172 0.23828125 -0.04711914 -0.022949219 0.040771484 0.029296875 -0.022583008 0.0037231445 -0.08251953 0.08154297 0.00793457 0.00047683716 0.018432617 0.07128906 -0.03491211 0.024169922\n",
            "that -0.01574707 -0.028320312 0.083496094 0.05029297 -0.11035156 0.03173828 -0.014221191 -0.08984375 0.11767578 0.11816406 -0.071777344 -0.07714844 -0.068847656 0.07714844 -0.13867188 0.006500244 0.010986328 -0.015136719 -0.0009613037 -0.030273438 -0.00015830994 0.038330078 -0.024169922 -0.045898438 0.09472656 -0.05517578 -0.064941406 0.0061035156 0.0008544922 0.06201172 -0.05444336 0.014099121 0.022216797 -0.044921875 0.111328125 -0.03857422 0.05126953 0.025146484 0.016967773 0.06298828 0.13769531 0.13574219 0.06542969 -0.064453125 -0.024047852 -0.013366699 -0.037109375 0.0043029785 -0.01574707 0.019042969 0.10839844 0.044677734 -0.044921875 -0.095214844 0.08691406 0.08203125 0.0068359375 -0.13183594 0.0027313232 -0.075683594 0.022460938 0.171875 -0.048583984 0.038330078 -0.088378906 -0.017211914 0.021850586 0.13378906 0.010681152 0.049804688 0.038085938 -0.0052490234 0.061279297 -0.050048828 -0.10595703 0.055664062 0.15429688 0.17089844 0.048095703 0.12695312 0.08154297 -0.1015625 0.043945312 -0.013549805 -0.13378906 -0.15722656 0.024291992 0.20898438 -0.10205078 -0.09375 0.048583984 0.07519531 0.0035247803 -0.123535156 -0.024169922 -0.0013198853 0.038330078 0.007598877 0.017700195 0.043701172 -0.09814453 -0.05810547 0.014099121 0.041015625 -0.03540039 -0.022949219 -0.13085938 -0.14453125 0.028930664 -0.122558594 -0.07128906 -0.0071411133 -0.09667969 0.05859375 0.104003906 0.026367188 0.0075683594 0.036132812 0.040283203 0.052734375 -0.20410156 -0.033447266 -0.029052734 0.03173828 -0.123535156 -0.06738281 0.01586914 -0.08642578 0.012512207 -0.06298828 -0.12060547 0.0234375 -0.13183594 -0.11816406 -0.012145996 -0.10986328 0.095214844 -0.041992188 0.018310547 0.051757812 0.014953613 -0.15917969 -0.021728516 -0.005126953 0.035888672 -0.003036499 -0.078125 -0.05126953 -0.0074157715 0.087402344 -0.023925781 0.044189453 -0.11376953 0.021484375 -0.003829956 -0.04345703 -0.104003906 -0.18554688 -0.044921875 0.044921875 -0.044433594 0.019042969 -0.020996094 0.0134887695 0.015258789 -0.030395508 0.04663086 0.10253906 -0.0138549805 0.008239746 -0.052734375 0.01965332 -0.076171875 -0.08984375 0.043945312 0.00793457 0.012634277 -0.10839844 -0.018554688 -0.10449219 -0.15234375 -0.07910156 -0.028808594 -0.018676758 0.09716797 -0.008361816 -0.03540039 0.007537842 0.05810547 0.08203125 0.028808594 0.05102539 0.0031738281 -0.018554688 0.014953613 -0.072753906 -0.034179688 0.043945312 -0.048828125 -0.16113281 0.025634766 0.036621094 -0.00015354156 -0.0012588501 -0.039794922 -0.032226562 -0.01574707 0.060791016 0.09716797 -0.015014648 -0.033691406 -0.015319824 0.0046691895 0.032958984 -0.08203125 0.10644531 0.15429688 0.0087890625 -0.12011719 0.061279297 0.05859375 0.03881836 -0.015991211 -0.043945312 0.12011719 -0.07519531 0.125 0.03515625 0.072753906 0.087402344 0.021118164 -0.07373047 0.034423828 -0.09423828 0.01159668 -0.057128906 -0.07861328 0.015991211 0.075683594 0.030517578 0.0046081543 -0.14550781 -0.024780273 -0.107910156 0.068847656 0.05810547 0.125 -0.06542969 0.005279541 0.01184082 0.06982422 0.12695312 0.06542969 -0.017333984 0.119140625 -0.032470703 0.14453125 0.076660156 -0.032226562 -0.06591797 0.06298828 -0.0625 -0.096191406 0.10644531 -0.039794922 0.11621094 -0.00970459 -0.03540039 -0.06542969 0.05883789 0.16210938 0.05126953 0.15917969 0.095214844 0.076171875 -0.091796875 0.025146484 -0.07861328 0.08935547 -0.05859375 -0.040039062 0.045898438 0.03100586 0.0390625 0.03564453 -0.10595703 -0.037109375 -0.16113281 0.021362305 0.0012207031 -0.011291504 -0.015625 -0.033447266 -0.020629883 -0.01940918 0.063964844 0.020141602 0.006866455 0.061035156 -0.1484375\n",
            "is 0.0070495605 -0.07324219 0.171875 0.022583008 -0.1328125 0.19824219 0.11279297 -0.107910156 0.071777344 0.020874023 -0.123046875 -0.05908203 0.10107422 0.0107421875 0.14355469 0.25976562 -0.036376953 0.18554688 -0.07861328 -0.022705078 -0.12060547 0.17773438 0.049560547 0.017211914 0.079589844 -0.045654297 -0.18847656 0.18945312 -0.02319336 0.06298828 0.09765625 -0.019042969 -0.07910156 0.15234375 0.17382812 0.1015625 -0.16308594 0.114746094 0.10058594 -0.09277344 0.109375 0.05883789 -0.021606445 0.06347656 0.041992188 -0.008850098 0.032226562 0.10644531 0.064453125 -0.118652344 0.030517578 0.06689453 0.12207031 -0.08300781 0.171875 0.07861328 0.095214844 -0.0077819824 0.02319336 0.0234375 -0.016845703 0.15527344 -0.10986328 -0.17675781 -0.11621094 0.0234375 -0.010620117 0.052734375 -0.13378906 0.079589844 0.07373047 0.043945312 0.115234375 -0.020629883 0.07470703 -0.0115356445 0.080566406 0.041748047 0.080078125 0.3515625 0.09667969 -0.21289062 0.16503906 -0.078125 0.06982422 -0.0013961792 -0.091308594 0.12988281 0.25195312 -0.016113281 0.09326172 -0.14648438 -0.0015106201 -0.15136719 -0.026855469 -0.15722656 0.026367188 0.0859375 0.071777344 0.07714844 -0.0390625 0.05444336 -0.12792969 0.091308594 -0.18457031 -0.037597656 -0.027954102 -0.08984375 -0.11669922 -0.09863281 0.048095703 -0.16210938 -0.10888672 0.08496094 -0.045654297 0.15820312 -0.038085938 -0.08203125 0.203125 0.08642578 0.06933594 0.032226562 -0.16015625 0.09472656 -0.024658203 0.05419922 0.027954102 0.044921875 0.16992188 0.072753906 -0.036376953 -0.010253906 -0.017089844 -0.107421875 -0.0007019043 -0.07373047 0.25390625 0.056640625 0.03515625 -0.008605957 0.18554688 0.021484375 0.26367188 -0.023803711 -0.099121094 -0.041259766 -0.06933594 -0.11376953 0.050048828 -0.05883789 0.046142578 0.087402344 0.10546875 0.10644531 0.027954102 0.09472656 0.11621094 -0.17285156 -0.03491211 -0.20800781 0.059570312 0.104003906 -0.0017929077 0.05859375 -0.029785156 -0.037597656 0.048583984 -0.063964844 0.079589844 0.06933594 -0.10498047 -0.14453125 0.04345703 -0.068847656 -0.03564453 -0.01171875 0.013671875 -0.06591797 0.119140625 0.03125 -0.04638672 -0.0019683838 0.0073547363 -0.056640625 0.027832031 0.08251953 -0.0134887695 0.071777344 0.14453125 0.12792969 0.042236328 0.14160156 -0.018066406 0.021606445 -0.091796875 0.13378906 -0.1953125 -0.05029297 -0.037841797 -0.096191406 0.103027344 -0.106933594 -0.14746094 0.099609375 -0.23046875 0.22753906 -0.07519531 0.064941406 0.091796875 0.046875 0.06298828 0.06982422 0.046142578 0.09716797 -0.20214844 0.19921875 0.18652344 -0.119628906 -0.14257812 0.15039062 -0.033691406 -0.14550781 -0.0006904602 -0.07324219 0.13378906 0.03564453 -0.022949219 0.027709961 -0.07910156 0.20703125 -0.083496094 -0.049560547 0.03149414 0.1484375 0.055664062 -0.044921875 -0.079589844 0.004760742 -0.020751953 0.060058594 0.004760742 0.011169434 0.17285156 -0.13476562 0.030761719 -0.079589844 0.09033203 0.061035156 0.07714844 -0.05029297 -0.092285156 -0.26757812 0.107910156 0.0859375 0.06298828 0.107910156 -0.026733398 0.10205078 -0.12060547 0.052978516 0.09472656 -0.16503906 0.044189453 0.072265625 0.041259766 0.42578125 -0.103027344 -0.16015625 -0.09033203 -0.063964844 -0.048095703 0.14453125 0.06542969 0.049316406 0.05419922 0.13574219 -0.01928711 -0.21582031 -0.07421875 -0.14648438 0.011474609 -0.16503906 -0.10498047 0.0032043457 0.13476562 -0.003967285 -0.103515625 -0.13964844 0.10449219 -0.012573242 -0.23339844 -0.036376953 -0.09375 0.18261719 0.02709961 0.12792969 -0.024780273 0.011230469 0.1640625 0.106933594\n"
          ]
        }
      ],
      "source": [
        "# Exercise: Print the first 4 lines of the files that you downloaded.\n",
        "# What do you see?\n",
        "\n",
        "print(\"Glove\")\n",
        "with open(glove_path, mode=\"r\", encoding=\"utf-8\") as f:\n",
        "  for i in range(4):\n",
        "    print(f.readline().strip())\n",
        "\n",
        "print(\"Word2Vec (Google News)\")\n",
        "with open(word2vec_path, mode=\"r\", encoding=\"utf-8\") as f:\n",
        "    for i in range(4):\n",
        "        print(f.readline().strip())"
      ]
    },
    {
      "cell_type": "markdown",
      "metadata": {
        "id": "WIVCkUkE_IjR"
      },
      "source": [
        "#### Exercise: New Vocabulary\n",
        "\n",
        "Since we now use pre-trained word embeddings, we need to create a new vocabulary.\n",
        "This is because of two reasons:\n",
        "\n",
        "1. We do not have pre-trained word embeddings for all words in our SST training set, and we do not want words in our vocabulary for which we have no word embeddings.\n",
        "2. We should be able to look up the pre-trained word embedding for words in the validation and test set, even if these words are unseen in training.\n",
        "\n",
        "Now, create a new vocabulary object `v` based on the word set of pre-trained embeddings, and load the corresponding embeddings into a list `vectors`.\n",
        "\n",
        "The vocabulary `v` should consist of:\n",
        " - a  `<unk>` token at position 0,\n",
        " - a  `<pad>` token at position 1,\n",
        " - and then all words in the pre-trained embedding set.\n",
        "\n",
        "\n",
        "After storing each vector in a list `vectors`, turn the list into a numpy matrix like this:\n",
        "```python\n",
        " vectors = np.stack(vectors, axis=0)\n",
        "```\n",
        "\n",
        "Remember to add new embeddings for the `<unk>` and `<pad>` tokens, as they're not part of the word2vec/GloVe embeddings. These embeddings can be randomly initialized or 0-valued, think about what makes sense and see what the effects are.\n"
      ]
    },
    {
      "cell_type": "code",
      "execution_count": 26,
      "metadata": {
        "id": "ITyyCvDnCL4U"
      },
      "outputs": [],
      "source": [
        "# YOUR CODE HERE\n",
        "v = Vocabulary()\n",
        "v.add_token(\"<unk>\")\n",
        "v.add_token(\"<pad>\")\n",
        "\n",
        "vectors = []\n",
        "with open(\"googlenews.word2vec.300d.txt\", mode=\"r\", encoding=\"utf-8\") as f:\n",
        "    for line in f:\n",
        "        word, embedding = line.strip().split(maxsplit=1)\n",
        "        v.add_token(word)\n",
        "        vectors.append(embedding.split())\n",
        "# TODO: Justify using randn in report. Basically, zero-initialized vectors do not train as well.\n",
        "vectors.insert(0, np.random.randn(len(vectors[0])))\n",
        "vectors.insert(1, np.random.randn(len(vectors[0])))\n",
        "\n",
        "vectors = np.row_stack(vectors).astype(np.float32)\n",
        "\n",
        "# sanity check\n",
        "assert len(v.w2i) == len(vectors)"
      ]
    },
    {
      "cell_type": "markdown",
      "metadata": {
        "id": "xC-7mRyYNG9b"
      },
      "source": [
        "#### Exercise: words not in our pre-trained set\n",
        "\n",
        "How many words in the training, dev, and test set are also in your vector set?\n",
        "How many words are not there?\n",
        "\n",
        "Store the words that are not in the word vector set in the set below."
      ]
    },
    {
      "cell_type": "code",
      "execution_count": 14,
      "metadata": {
        "id": "K6MA3-wF_X5M"
      },
      "outputs": [
        {
          "name": "stdout",
          "output_type": "stream",
          "text": [
            "Intersection of words in vocabulary and train set: 16167\n",
            "Intersection of words in vocabulary and validation set: 5010\n",
            "Intersection of words in vocabulary and test set: 7844\n",
            "Number of words not in the embedding: 2779\n"
          ]
        }
      ],
      "source": [
        "tokens_vocab = set(v.w2i.keys())\n",
        "\n",
        "tokens_train = set([t for ex in train_data for t in ex.tokens])\n",
        "print(\n",
        "    f\"Intersection of words in vocabulary and train set: {len(tokens_vocab & tokens_train)}\"\n",
        ")\n",
        "\n",
        "tokens_val = set([t for ex in dev_data for t in ex.tokens])\n",
        "print(\n",
        "    f\"Intersection of words in vocabulary and validation set: {len(tokens_vocab & tokens_val)}\"\n",
        ")\n",
        "\n",
        "tokens_test = set([t for ex in test_data for t in ex.tokens])\n",
        "print(\n",
        "    f\"Intersection of words in vocabulary and test set: {len(tokens_vocab & tokens_test)}\"\n",
        ")\n",
        "\n",
        "words = (tokens_train | tokens_val | tokens_test) - tokens_vocab\n",
        "print(f\"Number of words not in the embedding: {len(words)}\")\n",
        "# YOUR CODE HERE"
      ]
    },
    {
      "cell_type": "markdown",
      "metadata": {
        "id": "BfEd38W0NnAI"
      },
      "source": [
        "#### Exercise: train Deep CBOW with (fixed) pre-trained embeddings\n",
        "\n",
        "Now train Deep CBOW again using the pre-trained word vectors.\n"
      ]
    },
    {
      "cell_type": "code",
      "execution_count": 15,
      "metadata": {
        "id": "z_6ooqgEsB20"
      },
      "outputs": [
        {
          "ename": "NameError",
          "evalue": "name 'DeepCBOW' is not defined",
          "output_type": "error",
          "traceback": [
            "\u001b[0;31m---------------------------------------------------------------------------\u001b[0m",
            "\u001b[0;31mNameError\u001b[0m                                 Traceback (most recent call last)",
            "\u001b[1;32m/Users/Matey/Documents/Obsidian/University/Courses/NLP/Practicals/NLP1_2023_Prac_2_st.ipynb Cell 68\u001b[0m line \u001b[0;36m2\n\u001b[1;32m      <a href='vscode-notebook-cell:/Users/Matey/Documents/Obsidian/University/Courses/NLP/Practicals/NLP1_2023_Prac_2_st.ipynb#Y142sZmlsZQ%3D%3D?line=0'>1</a>\u001b[0m \u001b[39m# We define a new class that inherits from DeepCBOW.\u001b[39;00m\n\u001b[0;32m----> <a href='vscode-notebook-cell:/Users/Matey/Documents/Obsidian/University/Courses/NLP/Practicals/NLP1_2023_Prac_2_st.ipynb#Y142sZmlsZQ%3D%3D?line=1'>2</a>\u001b[0m \u001b[39mclass\u001b[39;00m \u001b[39mPTDeepCBOW\u001b[39;00m(DeepCBOW):\n\u001b[1;32m      <a href='vscode-notebook-cell:/Users/Matey/Documents/Obsidian/University/Courses/NLP/Practicals/NLP1_2023_Prac_2_st.ipynb#Y142sZmlsZQ%3D%3D?line=2'>3</a>\u001b[0m     \u001b[39mdef\u001b[39;00m \u001b[39m__init__\u001b[39m(\u001b[39mself\u001b[39m, vocab, vectors: np\u001b[39m.\u001b[39mndarray, embedding_dim\u001b[39m=\u001b[39m\u001b[39m300\u001b[39m, hidden_dim\u001b[39m=\u001b[39m[\u001b[39m100\u001b[39m, \u001b[39m100\u001b[39m], output_dim\u001b[39m=\u001b[39m\u001b[39m5\u001b[39m):\n\u001b[1;32m      <a href='vscode-notebook-cell:/Users/Matey/Documents/Obsidian/University/Courses/NLP/Practicals/NLP1_2023_Prac_2_st.ipynb#Y142sZmlsZQ%3D%3D?line=3'>4</a>\u001b[0m         \u001b[39msuper\u001b[39m(PTDeepCBOW, \u001b[39mself\u001b[39m)\u001b[39m.\u001b[39m\u001b[39m__init__\u001b[39m(\n\u001b[1;32m      <a href='vscode-notebook-cell:/Users/Matey/Documents/Obsidian/University/Courses/NLP/Practicals/NLP1_2023_Prac_2_st.ipynb#Y142sZmlsZQ%3D%3D?line=4'>5</a>\u001b[0m             vocab, embedding_dim, output_dim, hidden_dim)\n",
            "\u001b[0;31mNameError\u001b[0m: name 'DeepCBOW' is not defined"
          ]
        }
      ],
      "source": [
        "# We define a new class that inherits from DeepCBOW.\n",
        "class PTDeepCBOW(DeepCBOW):\n",
        "    def __init__(self, vocab, vectors: np.ndarray, embedding_dim=300, hidden_dim=[100, 100], output_dim=5):\n",
        "        super(PTDeepCBOW, self).__init__(\n",
        "            vocab, embedding_dim, output_dim, hidden_dim)\n",
        "\n",
        "        self.embed.weight.data.copy_(\n",
        "            torch.from_numpy(vectors.astype(np.float32)))\n",
        "        self.embed.weight.requires_grad_(False)"
      ]
    },
    {
      "cell_type": "code",
      "execution_count": 31,
      "metadata": {
        "id": "JfIh4Ni6yuAh"
      },
      "outputs": [
        {
          "name": "stdout",
          "output_type": "stream",
          "text": [
            "Iter 1000: loss=1838.6962, time=29.77s\n",
            "iter 1000: dev acc=0.3270\n",
            "new highscore\n",
            "Iter 2000: loss=1558.4424, time=63.29s\n",
            "iter 2000: dev acc=0.3143\n",
            "Iter 3000: loss=1544.2442, time=97.53s\n",
            "iter 3000: dev acc=0.3815\n",
            "new highscore\n",
            "Iter 4000: loss=1469.4640, time=132.10s\n",
            "iter 4000: dev acc=0.3488\n",
            "Iter 5000: loss=1462.0828, time=165.97s\n",
            "iter 5000: dev acc=0.3597\n",
            "Iter 6000: loss=1446.4733, time=200.27s\n",
            "iter 6000: dev acc=0.3470\n",
            "Iter 7000: loss=1422.4687, time=234.42s\n",
            "iter 7000: dev acc=0.3624\n",
            "Iter 8000: loss=1419.5913, time=268.78s\n",
            "iter 8000: dev acc=0.3252\n",
            "Iter 9000: loss=1446.8106, time=302.79s\n",
            "iter 9000: dev acc=0.3379\n",
            "Iter 10000: loss=1430.3369, time=337.24s\n",
            "iter 10000: dev acc=0.3660\n",
            "Iter 11000: loss=1405.8100, time=371.61s\n",
            "iter 11000: dev acc=0.3515\n",
            "Iter 12000: loss=1458.6412, time=405.56s\n",
            "iter 12000: dev acc=0.3560\n",
            "Iter 13000: loss=1397.9741, time=439.65s\n",
            "iter 13000: dev acc=0.3542\n",
            "Iter 14000: loss=1409.4774, time=473.80s\n",
            "iter 14000: dev acc=0.3787\n",
            "Iter 15000: loss=1374.1677, time=507.97s\n",
            "iter 15000: dev acc=0.4015\n",
            "new highscore\n",
            "Iter 16000: loss=1389.7981, time=541.70s\n",
            "iter 16000: dev acc=0.3960\n",
            "Iter 17000: loss=1397.6652, time=575.77s\n",
            "iter 17000: dev acc=0.3797\n",
            "Iter 18000: loss=1398.3277, time=610.00s\n",
            "iter 18000: dev acc=0.3915\n",
            "Iter 19000: loss=1408.3009, time=644.07s\n",
            "iter 19000: dev acc=0.3633\n",
            "Iter 20000: loss=1370.4796, time=678.27s\n",
            "iter 20000: dev acc=0.4033\n",
            "new highscore\n",
            "Iter 21000: loss=1382.3990, time=712.65s\n",
            "iter 21000: dev acc=0.3987\n",
            "Iter 22000: loss=1368.5230, time=746.76s\n",
            "iter 22000: dev acc=0.3842\n",
            "Iter 23000: loss=1387.2324, time=780.91s\n",
            "iter 23000: dev acc=0.3688\n",
            "Iter 24000: loss=1390.9729, time=815.23s\n",
            "iter 24000: dev acc=0.4069\n",
            "new highscore\n",
            "Iter 25000: loss=1391.7702, time=849.47s\n",
            "iter 25000: dev acc=0.3887\n",
            "Iter 26000: loss=1359.1537, time=883.32s\n",
            "iter 26000: dev acc=0.3115\n",
            "Iter 27000: loss=1342.4830, time=918.52s\n",
            "iter 27000: dev acc=0.3797\n",
            "Iter 28000: loss=1362.3392, time=952.22s\n",
            "iter 28000: dev acc=0.3787\n",
            "Iter 29000: loss=1375.6826, time=986.27s\n",
            "iter 29000: dev acc=0.4042\n",
            "Iter 30000: loss=1326.0952, time=1020.28s\n",
            "iter 30000: dev acc=0.3906\n",
            "Done training\n",
            "Loading best model\n",
            "best model iter 24000: train acc=0.4359, dev acc=0.4069, test acc=0.4253\n"
          ]
        }
      ],
      "source": [
        "# Create a Deep CBOW model with pre-trained embeddings\n",
        "# YOUR CODE HERE\n",
        "pt_deep_cbow_model = PTDeepCBOW(\n",
        "    v, vectors, embedding_dim=vectors.shape[-1], hidden_dim=[100, 100], output_dim=5)\n",
        "\n",
        "# move model to specified device\n",
        "pt_deep_cbow_model = pt_deep_cbow_model.to(device)\n",
        "\n",
        "# train the model\n",
        "optimizer = optim.Adam(pt_deep_cbow_model.parameters(), lr=0.001)\n",
        "bow_losses, bow_accuracies = train_model(\n",
        "    pt_deep_cbow_model, optimizer, num_iterations=30000, print_every=1000, eval_every=1000\n",
        ")"
      ]
    },
    {
      "cell_type": "code",
      "execution_count": 21,
      "metadata": {},
      "outputs": [],
      "source": [
        "# I'm so tired of their garbage non-batched code...\n",
        "def evaluate_model(model, data_loader, device):\n",
        "    \"\"\"Accuracy of a model on given data set.\"\"\"\n",
        "    correct = 0\n",
        "    total = 0\n",
        "    model.eval()  # disable dropout (explained later)\n",
        "\n",
        "    for x, y, offset in data_loader:\n",
        "        x = x.to(device)\n",
        "        y = y.to(device)\n",
        "\n",
        "        with torch.no_grad():\n",
        "            logits = model(x, offset)\n",
        "\n",
        "        pred = logits.argmax(dim=-1)\n",
        "\n",
        "        # temporary fix in order to use mps, if you remove .cpu(), you will have tensor mismatch (cpu / mps)\n",
        "        correct += (pred.cpu() == y.cpu()).sum().item()\n",
        "        total += len(y)\n",
        "\n",
        "    return correct / float(total)\n",
        "\n",
        "def train_model_minibatch(\n",
        "    model,\n",
        "    epochs,\n",
        "    optimizer,\n",
        "    criterion,\n",
        "    train_loader,\n",
        "    val_loader,\n",
        "    device,\n",
        "    model_savepath,\n",
        "):\n",
        "    \"\"\"Train a model.\n",
        "    \n",
        "    Has the following parameters:\n",
        "    - model: the model to train\n",
        "    - epochs: number of epochs to train for\n",
        "    - optimizer: the optimizer to use for training\n",
        "    - criterion: the loss function\n",
        "    - train_loader: the data loader for the training set\n",
        "    - val_loader: the data loader for the validation set\n",
        "    - device: the device to run the model on\n",
        "    - model_savepath: where to save the best model parameters\n",
        "    \n",
        "    Returns:\n",
        "    - train_losses: list of the mean training loss across the epochs\n",
        "    - val_accs: list of validation accuracies\n",
        "    \"\"\"\n",
        "    train_losses = []\n",
        "    val_accs = []\n",
        "    best_val_acc = 0.0\n",
        "    best_epoch = 0\n",
        "\n",
        "    train_losses = []\n",
        "\n",
        "    for epoch in range(epochs):\n",
        "        model.train()\n",
        "        tlosses = []\n",
        "\n",
        "        for x, y, offset in train_loader:\n",
        "\n",
        "            optimizer.zero_grad()\n",
        "\n",
        "            logits = model(x,offset)\n",
        "\n",
        "            loss = criterion(logits, y)\n",
        "            loss.backward()\n",
        "            optimizer.step()\n",
        "\n",
        "            tlosses.append(loss.item())\n",
        "\n",
        "        train_loss = np.mean(tlosses)\n",
        "        train_losses.append(train_loss)\n",
        "        val_acc = evaluate_model(model, val_loader, device)\n",
        "        val_accs.append(val_acc)\n",
        "\n",
        "        print(\n",
        "            f\"Epoch {epoch+1}/{epochs}: train loss={train_loss:.4f}, val acc={val_acc:.4f}\"\n",
        "        )\n",
        "\n",
        "        if val_acc > best_val_acc:\n",
        "            best_val_acc = val_acc\n",
        "            best_epoch = epoch\n",
        "            torch.save(model.state_dict(), model_savepath)\n",
        "\n",
        "    print(\n",
        "        f\"Best val acc={best_val_acc:.4f} at epoch {best_epoch+1} out of {epochs} epochs\"\n",
        "    )\n",
        "\n",
        "    return train_losses, val_accs"
      ]
    },
    {
      "cell_type": "code",
      "execution_count": 36,
      "metadata": {},
      "outputs": [],
      "source": [
        "class TreeDataset(Dataset):\n",
        "    def __init__(self, data: list[Example], vocab: Vocabulary):\n",
        "        self.data = data\n",
        "        self.vocab = vocab\n",
        "\n",
        "    def __len__(self):\n",
        "        return len(self.data)\n",
        "\n",
        "    def __getitem__(self, idx):\n",
        "        x = [self.vocab.w2i.get(t, 0) for t in self.data[idx].tokens]\n",
        "        y = [self.data[idx].label]\n",
        "\n",
        "        return torch.LongTensor(x), torch.LongTensor(y)\n",
        "\n",
        "    def __getitems__(self, indices):\n",
        "        tups = [self.__getitem__(i) for i in indices]\n",
        "        return tups\n",
        "\n",
        "\n",
        "def collate_batch(batch, device=device):\n",
        "    label_list, text_list, offsets = [], [], [0]\n",
        "    for _text, _label in batch:\n",
        "        processed_text = _text\n",
        "        label_list.append(_label)\n",
        "        text_list.append(processed_text)\n",
        "        offsets.append(processed_text.size(0))\n",
        "    label_list = torch.tensor(label_list, dtype=torch.int64)\n",
        "    offsets = torch.tensor(offsets[:-1]).cumsum(dim=0)\n",
        "    text_list = torch.cat(text_list)\n",
        "    return text_list.to(device), label_list.to(device), offsets.to(device)\n",
        "\n",
        "\n",
        "class DeepCBOW(nn.Module):\n",
        "    \"\"\"Continuous bag-of-words model\"\"\"\n",
        "\n",
        "    def __init__(\n",
        "        self, vocab: Vocabulary, embedding_dim=300, output_dim=5, hiddens=[100, 100]\n",
        "    ):\n",
        "        super(DeepCBOW, self).__init__()\n",
        "        self.vocab = vocab\n",
        "        self.vocab_size = len(vocab.i2w)\n",
        "\n",
        "        # this is a trainable look-up table with word embeddings\n",
        "        self.embed = nn.EmbeddingBag(self.vocab_size, embedding_dim)\n",
        "\n",
        "        hiddens = [embedding_dim] + hiddens\n",
        "        layers = []\n",
        "        for i in range(len(hiddens) - 1):\n",
        "            layers.append(nn.Linear(hiddens[i], hiddens[i + 1]))\n",
        "            layers.append(nn.Tanh())\n",
        "\n",
        "        layers.append(nn.Linear(hiddens[-1], output_dim))\n",
        "        self.layers = nn.Sequential(*layers)\n",
        "\n",
        "    def forward(self, inputs, offsets):\n",
        "        # this looks up the embeddings for each word ID in inputs\n",
        "        # the result is a sequence of word embeddings\n",
        "        embeds = self.embed(inputs, offsets)\n",
        "        logits = self.layers(embeds)\n",
        "        return logits\n",
        "\n",
        "\n",
        "train_dataset = TreeDataset(train_data, v)\n",
        "train_loader = DataLoader(\n",
        "    train_dataset,\n",
        "    batch_size=32,\n",
        "    shuffle=True,\n",
        "    collate_fn=lambda data: collate_batch(data, device=\"cpu\"),\n",
        ")\n",
        "\n",
        "val_dataset = TreeDataset(dev_data, v)\n",
        "val_loader = DataLoader(\n",
        "    val_dataset,\n",
        "    batch_size=32,\n",
        "    shuffle=False,\n",
        "    collate_fn=lambda data: collate_batch(data, device=\"cpu\"),\n",
        ")\n",
        "\n",
        "deepcbow = DeepCBOW(v, embedding_dim=300, output_dim=5)\n",
        "deepcbow_optimizer = optim.Adam(deepcbow.parameters(), lr=0.001)\n",
        "\n",
        "train_losses, val_accuracies = train_model_minibatch(\n",
        "    deepcbow,\n",
        "    10,\n",
        "    deepcbow_optimizer,\n",
        "    nn.CrossEntropyLoss(),\n",
        "    train_loader,\n",
        "    val_loader,\n",
        "    device,\n",
        "    \"deepcbow.pt\",\n",
        ")"
      ]
    },
    {
      "cell_type": "code",
      "execution_count": 23,
      "metadata": {
        "id": "Ufujv3x31ufD"
      },
      "outputs": [
        {
          "data": {
            "image/png": "[encoded data removed]",
            "text/plain": [
              "<Figure size 1000x500 with 2 Axes>"
            ]
          },
          "metadata": {},
          "output_type": "display_data"
        }
      ],
      "source": [
        "# plot dev accuracies\n",
        "fig, axs = plt.subplots(1, 2, figsize=(10, 5))\n",
        "axs[0].plot(train_losses, label=\"DeepCBOW (batched)\")\n",
        "axs[1].plot(val_accuracies, label=\"DeepCBOW (batched)\")\n",
        "axs[0].set_title(\"Training loss\")\n",
        "axs[1].set_title(\"Validation accuracy\");"
      ]
    },
    {
      "cell_type": "markdown",
      "metadata": {
        "id": "yFu8xzCy9XDW"
      },
      "source": [
        "**It looks like we've hit what is possible with just using words.**\n",
        "Let's move on by incorporating word order!"
      ]
    },
    {
      "cell_type": "markdown",
      "metadata": {
        "id": "g41yW4PL9jG0"
      },
      "source": [
        "# LSTM"
      ]
    },
    {
      "cell_type": "markdown",
      "metadata": {
        "id": "ODzXEH0MaGpa"
      },
      "source": [
        "It is time to get more serious. Even with pre-trained word embeddings and multiple layers, we still seem to do pretty badly at sentiment classification.\n",
        "The next step we can take is to introduce word order again, dropping our independence assumptions. In this way, we can get a representation of the sentence as an ordered set of tokens.\n",
        "\n",
        "We will get this representation using a **Long Short-Term Memory** (LSTM). As an exercise, we will code our own LSTM cell, so that we get comfortable with its inner workings.\n",
        "Once we have an LSTM cell, we can call it repeatedly, updating its hidden state one word at a time:\n",
        "\n",
        "```python\n",
        "rnn = MyLSTMCell(input_size, hidden_size)\n",
        "\n",
        "hx = torch.zeros(1, hidden_size)  # initial hidden state\n",
        "cx = torch.zeros(1, hidden_size)  # initial memory cell\n",
        "output = []                       # to save intermediate LSTM states\n",
        "\n",
        "# feed one word at a time\n",
        "for i in range(n_timesteps):\n",
        "  hx, cx = rnn(input[i], (hx, cx))\n",
        "  output.append(hx)\n",
        "```\n",
        "\n",
        "If you need some more help understanding LSTMs, you can check out these resources:\n",
        "- Blog post (highly recommended): http://colah.github.io/posts/2015-08-Understanding-LSTMs/\n",
        "- Paper covering LSTM formulas in detail: https://arxiv.org/abs/1503.04069\n"
      ]
    },
    {
      "cell_type": "markdown",
      "metadata": {
        "id": "v9f4b45BXKFC"
      },
      "source": [
        "#### Exercise: Finish the LSTM cell below.\n",
        "You will need to implement the LSTM formulas:\n",
        "\n",
        "$$\n",
        "\\begin{array}{ll}\n",
        "        i = \\sigma(W_{ii} x + b_{ii} + W_{hi} h + b_{hi}) \\\\\n",
        "        f = \\sigma(W_{if} x + b_{if} + W_{hf} h + b_{hf}) \\\\\n",
        "        g = \\tanh(W_{ig} x + b_{ig} + W_{hg} h + b_{hg}) \\\\\n",
        "        o = \\sigma(W_{io} x + b_{io} + W_{ho} h + b_{ho}) \\\\\n",
        "        c' = f * c + i * g \\\\\n",
        "        h' = o \\tanh(c') \\\\\n",
        "\\end{array}\n",
        " $$\n",
        "\n",
        "where $\\sigma$ is the sigmoid function.\n",
        "\n",
        "*Note that the LSTM formulas can differ slightly between different papers. We use the PyTorch LSTM formulation here.*"
      ]
    },
    {
      "cell_type": "code",
      "execution_count": 24,
      "metadata": {
        "id": "zJ9m5kLMd7-v"
      },
      "outputs": [],
      "source": [
        "class MyLSTMCell(nn.Module):\n",
        "    \"\"\"Our own LSTM cell\"\"\"\n",
        "\n",
        "    def __init__(self, input_size, hidden_size, bias=True):\n",
        "        \"\"\"Creates the weights for this LSTM\"\"\"\n",
        "        super(MyLSTMCell, self).__init__()\n",
        "\n",
        "        self.input_size = input_size\n",
        "        self.hidden_size = hidden_size\n",
        "        self.bias = bias\n",
        "\n",
        "        self.linear_ii = nn.Linear(self.input_size, self.hidden_size)\n",
        "        self.linear_hi = nn.Linear(self.hidden_size, self.hidden_size)\n",
        "        self.linear_if = nn.Linear(self.input_size, self.hidden_size)\n",
        "        self.linear_hf = nn.Linear(self.hidden_size, self.hidden_size)\n",
        "        self.linear_ig = nn.Linear(self.input_size, self.hidden_size)\n",
        "        self.linear_hg = nn.Linear(self.hidden_size, self.hidden_size)\n",
        "        self.linear_io = nn.Linear(self.input_size, self.hidden_size)\n",
        "        self.linear_ho = nn.Linear(self.hidden_size, self.hidden_size)\n",
        "        self.tanh = nn.Tanh()\n",
        "        self.sigmoid = nn.Sigmoid()\n",
        "\n",
        "        # YOUR CODE HERE\n",
        "\n",
        "        self.reset_parameters()\n",
        "\n",
        "    def reset_parameters(self):\n",
        "        \"\"\"This is PyTorch's default initialization method\"\"\"\n",
        "        stdv = 1.0 / math.sqrt(self.hidden_size)\n",
        "        for weight in self.parameters():\n",
        "            weight.data.uniform_(-stdv, stdv)\n",
        "\n",
        "    def forward(self, input_, hx, mask=None):\n",
        "        \"\"\"\n",
        "        input is (batch, input_size)\n",
        "        hx is ((batch, hidden_size), (batch, hidden_size))\n",
        "        \"\"\"\n",
        "        prev_h, prev_c = hx\n",
        "        \n",
        "        # project input and prev state\n",
        "        # YOUR CODE HERE\n",
        "        i = self.sigmoid(self.linear_ii(input_) + self.linear_hi(prev_h))\n",
        "        f = self.sigmoid(self.linear_if(input_) + self.linear_hf(prev_h))\n",
        "        g = self.tanh(self.linear_ig(input_) + self.linear_hg(prev_h))\n",
        "        o = self.sigmoid(self.linear_io(input_) + self.linear_ho(prev_h))\n",
        "        \n",
        "        c = f * prev_c + i * g\n",
        "        h = o * self.tanh(c)\n",
        "        # main LSTM computation\n",
        "\n",
        "        return h, c\n",
        "\n",
        "    def __repr__(self):\n",
        "        return \"{}({:d}, {:d})\".format(\n",
        "            self.__class__.__name__, self.input_size, self.hidden_size)"
      ]
    },
    {
      "cell_type": "markdown",
      "metadata": {
        "id": "4JM7xPhkQeE5"
      },
      "source": [
        "#### Optional: Efficient Matrix Multiplication\n",
        "\n",
        "It is more efficient to do a few big matrix multiplications than to do many smaller ones. So we will implement the above cell using just **two** linear layers.\n",
        "\n",
        "This is possible because the eight linear transformations contained in one forward pass through an LSTM cell can be reduced to just two:\n",
        "$$W_h h + b_h$$\n",
        "$$W_i x + b_i $$\n",
        "\n",
        "with $h = $ `prev_h` and $x = $ `input_`.\n",
        "\n",
        "and where:\n",
        "\n",
        "$W_h =  \\begin{pmatrix}\n",
        "W_{hi}\\\\\n",
        "W_{hf}\\\\\n",
        "W_{hg}\\\\\n",
        "W_{ho}\n",
        "\\end{pmatrix}$, $b_h = \\begin{pmatrix}\n",
        "b_{hi}\\\\\n",
        "b_{hf}\\\\\n",
        "b_{hg}\\\\\n",
        "b_{ho}\n",
        "\\end{pmatrix}$,  $W_i = \\begin{pmatrix}\n",
        "W_{ii}\\\\\n",
        "W_{if}\\\\\n",
        "W_{ig}\\\\\n",
        "W_{io}\n",
        "\\end{pmatrix}$ and $b_i = \\begin{pmatrix}\n",
        "b_{ii}\\\\\n",
        "b_{if}\\\\\n",
        "b_{ig}\\\\\n",
        "b_{io}\n",
        "\\end{pmatrix}$.\n",
        "\n",
        "Convince yourself that, after chunking with [torch.chunk](https://pytorch.org/docs/stable/torch.html?highlight=chunk#torch.chunk), the output of those two linear transformations is equivalent to the output of the eight linear transformations in the LSTM cell calculations above."
      ]
    },
    {
      "cell_type": "markdown",
      "metadata": {
        "id": "X9gA-UcqSBe0"
      },
      "source": [
        "#### LSTM Classifier\n",
        "\n",
        "Having an LSTM cell is not enough: we still need some code that calls it repeatedly, and then makes a prediction from the final hidden state.\n",
        "You will find that code below. Make sure that you understand it."
      ]
    },
    {
      "cell_type": "code",
      "execution_count": 38,
      "metadata": {
        "id": "3iuYZm5poEn5"
      },
      "outputs": [],
      "source": [
        "class LSTMClassifier(nn.Module):\n",
        "    \"\"\"Encodes sentence with an LSTM and projects final hidden state\"\"\"\n",
        "\n",
        "    def __init__(self, vocab_size, embedding_dim, hidden_dim, output_dim, vocab):\n",
        "        super(LSTMClassifier, self).__init__()\n",
        "        self.vocab = vocab\n",
        "        self.hidden_dim = hidden_dim\n",
        "        self.embed = nn.Embedding(vocab_size, embedding_dim, padding_idx=1)\n",
        "        self.rnn = MyLSTMCell(embedding_dim, hidden_dim)\n",
        "\n",
        "        self.output_layer = nn.Sequential(\n",
        "            nn.Dropout(p=0.5),  # explained later\n",
        "            nn.Linear(hidden_dim, output_dim)\n",
        "        )\n",
        "\n",
        "    def forward(self, x, *args):\n",
        "\n",
        "        B = x.size(0)  # batch size (this is 1 for now, i.e. 1 single example)\n",
        "        T = x.size(1)  # timesteps (the number of words in the sentence)\n",
        "\n",
        "        input_ = self.embed(x)\n",
        "\n",
        "        # here we create initial hidden states containing zeros\n",
        "        # we use a trick here so that, if input is on the GPU, then so are hx and cx\n",
        "        hx = input_.new_zeros(B, self.rnn.hidden_size)\n",
        "        cx = input_.new_zeros(B, self.rnn.hidden_size)\n",
        "\n",
        "        # process input sentences one word/timestep at a time\n",
        "        # input is batch-major (i.e., batch size is the first dimension)\n",
        "        # so the first word(s) is (are) input_[:, 0]\n",
        "        outputs = []\n",
        "        for i in range(T):\n",
        "            hx, cx = self.rnn(input_[:, i], (hx, cx))\n",
        "            outputs.append(hx)\n",
        "\n",
        "        # if we have a single example, our final LSTM state is the last hx\n",
        "        if B == 1:\n",
        "            final = hx\n",
        "        else:\n",
        "            #\n",
        "            # This part is explained in next section, ignore this else-block for now.\n",
        "            #\n",
        "            # We processed sentences with different lengths, so some of the sentences\n",
        "            # had already finished and we have been adding padding inputs to hx.\n",
        "            # We select the final state based on the length of each sentence.\n",
        "\n",
        "            # two lines below not needed if using LSTM from pytorch\n",
        "            outputs = torch.stack(outputs, dim=0)           # [T, B, D]\n",
        "            outputs = outputs.transpose(0, 1).contiguous()  # [B, T, D]\n",
        "\n",
        "            # to be super-sure we're not accidentally indexing the wrong state\n",
        "            # we zero out positions that are invalid\n",
        "            pad_positions = (x == 1).unsqueeze(-1)\n",
        "\n",
        "            outputs = outputs.contiguous()\n",
        "            outputs = outputs.masked_fill_(pad_positions, 0.)\n",
        "\n",
        "            mask = (x != 1)  # true for valid positions [B, T]\n",
        "            lengths = mask.sum(dim=1)                 # [B, 1]\n",
        "\n",
        "            indexes = (lengths - 1) + torch.arange(B,\n",
        "                                                   device=x.device, dtype=x.dtype) * T\n",
        "            final = outputs.view(-1, self.hidden_dim)[indexes]  # [B, D]\n",
        "\n",
        "        # we use the last hidden state to classify the sentence\n",
        "        logits = self.output_layer(final)\n",
        "        return logits"
      ]
    },
    {
      "cell_type": "markdown",
      "metadata": {
        "id": "FxFoVpvMPB6g"
      },
      "source": [
        "#### Dropout\n",
        "\n",
        "Data sparsity and a small data set can cause *overfitting*. This is a phenomenom that is very likely to occur when training strong and expressive models, like LSTMs, on small data. In practice, if your model overfits, this means that it will be very good at predicting (or \"remembering\") the sentiment of the training set, but unable to generalise to new, unseen data in the test set. This is undesirable and one technique to mitigate this issue is *dropout*.\n",
        "\n",
        "A dropout layer is defined by the following formula, which can be applied, for example, to a linear layer:\n",
        "\n",
        "$$\\text{tanh}(W(\\mathbf{h}\\odot \\mathbf{d}) + \\mathbf{b})$$\n",
        "\n",
        "where $\\mathbf{d} \\in \\{0, 1\\}^n$, with $d_j \\sim \\text{Bernoulli}(p)$,\n",
        "\n",
        "These formula simply means that we *drop* certain parameters during training (by setting them to zero). Which parameters we drop is stochastically determined by a Bernoulli distribution and the probability of each parameter being dropped is set to $p = 0.5$ in our experiments (see the previous cell of code where we define our output layer). A dropout layer can be applied at many different places in our models. This technique helps against the undesirable effect that a model relies on single parameters for prediction (e.g. if $h^{\\prime}_j$ is large, always predict positive). If we use dropout, the model needs to learn to rely on different parameters, which is desirable to obtain better generalisation to unseen data."
      ]
    },
    {
      "cell_type": "markdown",
      "metadata": {
        "id": "XQjEjLt9z0XW"
      },
      "source": [
        "**Let's train our LSTM!** Note that is will be a lot slower than previous models because we need to do many more computations per sentence.\n",
        "\n",
        "#### Training"
      ]
    },
    {
      "cell_type": "code",
      "execution_count": 41,
      "metadata": {
        "id": "LgZoSPD4fsf_"
      },
      "outputs": [
        {
          "name": "stdout",
          "output_type": "stream",
          "text": [
            "LSTMClassifier(\n",
            "  (embed): Embedding(18922, 300, padding_idx=1)\n",
            "  (rnn): MyLSTMCell(300, 168)\n",
            "  (output_layer): Sequential(\n",
            "    (0): Dropout(p=0.5, inplace=False)\n",
            "    (1): Linear(in_features=168, out_features=5, bias=True)\n",
            "  )\n",
            ")\n",
            "embed.weight             [18922, 300] requires_grad=False\n",
            "rnn.linear_ii.weight     [168, 300]   requires_grad=True\n",
            "rnn.linear_ii.bias       [168]        requires_grad=True\n",
            "rnn.linear_hi.weight     [168, 168]   requires_grad=True\n",
            "rnn.linear_hi.bias       [168]        requires_grad=True\n",
            "rnn.linear_if.weight     [168, 300]   requires_grad=True\n",
            "rnn.linear_if.bias       [168]        requires_grad=True\n",
            "rnn.linear_hf.weight     [168, 168]   requires_grad=True\n",
            "rnn.linear_hf.bias       [168]        requires_grad=True\n",
            "rnn.linear_ig.weight     [168, 300]   requires_grad=True\n",
            "rnn.linear_ig.bias       [168]        requires_grad=True\n",
            "rnn.linear_hg.weight     [168, 168]   requires_grad=True\n",
            "rnn.linear_hg.bias       [168]        requires_grad=True\n",
            "rnn.linear_io.weight     [168, 300]   requires_grad=True\n",
            "rnn.linear_io.bias       [168]        requires_grad=True\n",
            "rnn.linear_ho.weight     [168, 168]   requires_grad=True\n",
            "rnn.linear_ho.bias       [168]        requires_grad=True\n",
            "output_layer.1.weight    [5, 168]     requires_grad=True\n",
            "output_layer.1.bias      [5]          requires_grad=True\n",
            "\n",
            "Total number of parameters: 5993285\n",
            "Iter 250: loss=407.5248, time=75.54s\n",
            "Iter 500: loss=401.9365, time=153.29s\n",
            "Iter 750: loss=402.7894, time=227.47s\n",
            "Iter 1000: loss=393.1101, time=299.16s\n",
            "iter 1000: dev acc=0.2598\n",
            "new highscore\n",
            "Iter 1250: loss=397.4485, time=481.03s\n",
            "Iter 1500: loss=396.2519, time=556.96s\n",
            "Iter 1750: loss=394.5668, time=639.19s\n",
            "Iter 2000: loss=375.6800, time=714.32s\n",
            "iter 2000: dev acc=0.3397\n",
            "new highscore\n",
            "Iter 2250: loss=351.8148, time=905.61s\n",
            "Iter 2500: loss=356.4681, time=979.66s\n",
            "Iter 2750: loss=362.3840, time=1055.82s\n",
            "Iter 3000: loss=371.3525, time=1128.07s\n",
            "iter 3000: dev acc=0.3497\n",
            "new highscore\n",
            "Iter 3250: loss=363.2202, time=1307.72s\n",
            "Iter 3500: loss=361.4201, time=1385.80s\n",
            "Iter 3750: loss=351.6443, time=1465.15s\n",
            "Iter 4000: loss=358.8503, time=1543.91s\n",
            "iter 4000: dev acc=0.3760\n",
            "new highscore\n",
            "Iter 4250: loss=369.8356, time=1723.17s\n",
            "Iter 4500: loss=360.4437, time=1793.32s\n",
            "Iter 4750: loss=329.1883, time=1868.10s\n",
            "Iter 5000: loss=353.4398, time=1960.50s\n",
            "iter 5000: dev acc=0.3915\n",
            "new highscore\n",
            "Iter 5250: loss=340.0754, time=2171.18s\n",
            "Iter 5500: loss=345.4751, time=2253.15s\n",
            "Iter 5750: loss=349.0902, time=2340.98s\n",
            "Iter 6000: loss=330.4579, time=2430.47s\n",
            "iter 6000: dev acc=0.3833\n",
            "Iter 6250: loss=349.0344, time=2637.09s\n",
            "Iter 6500: loss=345.3508, time=2713.43s\n",
            "Iter 6750: loss=327.0384, time=2796.69s\n",
            "Iter 7000: loss=324.3989, time=2876.32s\n",
            "iter 7000: dev acc=0.3706\n",
            "Iter 7250: loss=341.1750, time=3078.73s\n",
            "Iter 7500: loss=321.4127, time=3160.28s\n",
            "Iter 7750: loss=330.3269, time=3243.67s\n",
            "Iter 8000: loss=338.8107, time=3314.77s\n",
            "iter 8000: dev acc=0.4051\n",
            "new highscore\n",
            "Iter 8250: loss=339.2170, time=3509.14s\n",
            "Iter 8500: loss=337.5711, time=3581.69s\n",
            "Iter 8750: loss=328.2097, time=3666.82s\n",
            "Iter 9000: loss=311.8015, time=3740.71s\n",
            "iter 9000: dev acc=0.4242\n",
            "new highscore\n",
            "Iter 9250: loss=309.6577, time=3941.86s\n",
            "Iter 9500: loss=314.3630, time=4028.03s\n",
            "Iter 9750: loss=318.3956, time=4109.13s\n",
            "Iter 10000: loss=312.1605, time=4196.06s\n",
            "iter 10000: dev acc=0.4178\n",
            "Iter 10250: loss=319.2900, time=4384.18s\n",
            "Iter 10500: loss=307.3556, time=4475.75s\n",
            "Iter 10750: loss=301.8632, time=4569.14s\n",
            "Iter 11000: loss=318.0382, time=4662.26s\n",
            "iter 11000: dev acc=0.4360\n",
            "new highscore\n",
            "Iter 11250: loss=319.6639, time=4868.96s\n",
            "Iter 11500: loss=320.6211, time=4954.81s\n",
            "Iter 11750: loss=320.4220, time=5042.73s\n",
            "Iter 12000: loss=337.0225, time=5127.71s\n",
            "iter 12000: dev acc=0.4405\n",
            "new highscore\n",
            "Iter 12250: loss=311.2526, time=5320.93s\n",
            "Iter 12500: loss=335.3217, time=5407.08s\n",
            "Iter 12750: loss=314.1399, time=5502.23s\n",
            "Iter 13000: loss=307.8449, time=5582.43s\n",
            "iter 13000: dev acc=0.4460\n",
            "new highscore\n",
            "Iter 13250: loss=321.8734, time=5780.07s\n",
            "Iter 13500: loss=321.2507, time=5859.52s\n",
            "Iter 13750: loss=308.8542, time=5937.69s\n",
            "Iter 14000: loss=308.4602, time=6022.08s\n",
            "iter 14000: dev acc=0.4369\n",
            "Iter 14250: loss=325.8740, time=6205.98s\n",
            "Iter 14500: loss=316.6238, time=6291.28s\n",
            "Iter 14750: loss=315.3195, time=6371.19s\n",
            "Iter 15000: loss=314.5926, time=6449.66s\n",
            "iter 15000: dev acc=0.4296\n",
            "Iter 15250: loss=334.0492, time=6642.97s\n",
            "Iter 15500: loss=306.1682, time=6725.71s\n",
            "Iter 15750: loss=315.1779, time=6806.36s\n",
            "Iter 16000: loss=318.6879, time=6890.05s\n",
            "iter 16000: dev acc=0.4387\n",
            "Iter 16250: loss=333.0989, time=7094.86s\n",
            "Iter 16500: loss=318.9267, time=7175.30s\n",
            "Iter 16750: loss=309.2681, time=7252.24s\n",
            "Iter 17000: loss=308.4016, time=7326.83s\n",
            "iter 17000: dev acc=0.4105\n",
            "Iter 17250: loss=314.8402, time=7524.31s\n",
            "Iter 17500: loss=297.1812, time=7606.61s\n",
            "Iter 17750: loss=290.4476, time=7694.89s\n",
            "Iter 18000: loss=288.6821, time=7781.47s\n",
            "iter 18000: dev acc=0.4242\n",
            "Iter 18250: loss=295.0996, time=8035.62s\n",
            "Iter 18500: loss=293.3799, time=8151.25s\n",
            "Iter 18750: loss=285.0180, time=8236.74s\n",
            "Iter 19000: loss=295.6775, time=8319.46s\n",
            "iter 19000: dev acc=0.4550\n",
            "new highscore\n",
            "Iter 19250: loss=307.9559, time=8519.08s\n",
            "Iter 19500: loss=320.2936, time=8601.76s\n",
            "Iter 19750: loss=307.8674, time=8682.63s\n",
            "Iter 20000: loss=298.6547, time=8761.30s\n",
            "iter 20000: dev acc=0.4478\n",
            "Iter 20250: loss=288.9307, time=8969.96s\n",
            "Iter 20500: loss=277.1640, time=9045.67s\n",
            "Iter 20750: loss=276.9183, time=9118.43s\n",
            "Iter 21000: loss=295.5273, time=9193.46s\n",
            "iter 21000: dev acc=0.4714\n",
            "new highscore\n",
            "Iter 21250: loss=261.8628, time=9390.79s\n",
            "Iter 21500: loss=296.7260, time=9481.49s\n",
            "Iter 21750: loss=310.7621, time=9579.59s\n",
            "Iter 22000: loss=296.1459, time=9689.44s\n",
            "iter 22000: dev acc=0.4668\n",
            "Iter 22250: loss=292.8858, time=9908.59s\n",
            "Iter 22500: loss=286.2320, time=9984.17s\n",
            "Iter 22750: loss=281.9287, time=10067.98s\n",
            "Iter 23000: loss=289.4004, time=10148.15s\n",
            "iter 23000: dev acc=0.4532\n",
            "Iter 23250: loss=313.4549, time=10335.31s\n",
            "Iter 23500: loss=300.9865, time=10410.01s\n",
            "Iter 23750: loss=305.4831, time=10479.03s\n",
            "Iter 24000: loss=293.4229, time=10546.36s\n",
            "iter 24000: dev acc=0.4650\n",
            "Iter 24250: loss=319.6188, time=10719.11s\n",
            "Iter 24500: loss=281.7164, time=10789.78s\n",
            "Iter 24750: loss=300.8975, time=10862.06s\n",
            "Iter 25000: loss=308.9052, time=10932.96s\n",
            "iter 25000: dev acc=0.4578\n",
            "Done training\n",
            "Loading best model\n",
            "best model iter 21000: train acc=0.5312, dev acc=0.4714, test acc=0.4638\n"
          ]
        }
      ],
      "source": [
        "lstm_model = LSTMClassifier(len(v.w2i), 300, 168, len(t2i), v)\n",
        "\n",
        "# copy pre-trained word vectors into embeddings table\n",
        "with torch.no_grad():\n",
        "    lstm_model.embed.weight.data.copy_(torch.from_numpy(vectors))\n",
        "    lstm_model.embed.weight.requires_grad = False\n",
        "\n",
        "print(lstm_model)\n",
        "print_parameters(lstm_model)\n",
        "\n",
        "lstm_model = lstm_model.to(device)\n",
        "optimizer = optim.Adam(lstm_model.parameters(), lr=1e-3)\n",
        "\n",
        "lstm_losses, lstm_accuracies = train_model(\n",
        "    lstm_model, optimizer, num_iterations=25000,\n",
        "    print_every=250, eval_every=1000)\n",
        "\n",
        "# lstm_losses, lstm_accuracies = train_model_minibatch(\n",
        "#     lstm_model,\n",
        "#     10,\n",
        "#     optimizer,\n",
        "#     nn.CrossEntropyLoss(),\n",
        "#     train_loader,\n",
        "#     val_loader,\n",
        "#     device,\n",
        "#     \"lstm.pt\",\n",
        "# )"
      ]
    },
    {
      "cell_type": "code",
      "execution_count": null,
      "metadata": {
        "id": "2BKVnyg0Hq5E"
      },
      "outputs": [],
      "source": [
        "# plot validation accuracy\n",
        "fig, axs = plt.subplots(1, 2, figsize=(10, 5))\n",
        "axs[0].plot(lstm_losses, label=\"LSTM\")\n",
        "axs[0].set_title(\"Training loss\")\n",
        "axs[1].plot(lstm_accuracies, label=\"LSTM\")\n",
        "axs[1].set_title(\"Validation accuracy\")"
      ]
    },
    {
      "cell_type": "markdown",
      "metadata": {
        "id": "YEw6XHQY_AAQ"
      },
      "source": [
        "# Mini-batching\n",
        "\n"
      ]
    },
    {
      "cell_type": "markdown",
      "metadata": {
        "id": "FPf96wGzBTQJ"
      },
      "source": [
        "**Why is the LSTM so slow?** Despite our best efforts, we still need to make a lot of matrix multiplications per example (linear in the length of the example) just to get a single classification, and we can only process the 2nd word once we have computed the hidden state for the 1st word (sequential computation).\n",
        "\n",
        "GPUs are more efficient if we do a few big matrix multiplications, rather than lots of small ones. If we could process multiple examples at the same time, then we could exploit that. That is, we could still process the input sequentially, but doing so for multiple sentences at the same time.\n",
        "\n",
        "Up to now our \"mini-batches\" consisted of a single example. This was for a reason: the sentences in our data sets have **different lengths**, and this makes it difficult to process them at the same time.\n",
        "\n",
        "Consider a batch of 2 sentences:\n",
        "\n",
        "```\n",
        "this movie is bad\n",
        "this movie is super cool !\n",
        "```\n",
        "\n",
        "Let's say the IDs for these sentences are:\n",
        "\n",
        "```\n",
        "2 3 4 5\n",
        "2 3 4 6 7 8\n",
        "```\n",
        "\n",
        "We cannot feed PyTorch an object with rows of variable length! We need to turn this into a matrix.\n",
        "\n",
        "The solution is to add **padding values** to our mini-batch:\n",
        "\n",
        "```\n",
        "2 3 4 5 1 1\n",
        "2 3 4 6 7 8\n",
        "```\n",
        "\n",
        "Whenever a sentence is shorter than the longest sentence in a mini-batch, we just use a padding value (here: 1) to fill the matrix.\n",
        "\n",
        "In our computation, we should **ignore** the padding positions (e.g. mask them out) so that paddings do not contribute to the loss.\n",
        "\n",
        "#### Mini-batch feed\n",
        "We will now implement a `get_minibatch` function which will replace `get_example` and returns a mini-batch of the requested size."
      ]
    },
    {
      "cell_type": "code",
      "execution_count": null,
      "metadata": {
        "id": "IoAE2JBiXJ3P"
      },
      "outputs": [],
      "source": [
        "def get_minibatch(data, batch_size=32, shuffle=True):\n",
        "    \"\"\"Return minibatches, optional shuffling\"\"\"\n",
        "\n",
        "    if shuffle:\n",
        "        print(\"Shuffling training data\")\n",
        "        random.shuffle(data)  # shuffle training data each epoch\n",
        "\n",
        "    batch = []\n",
        "\n",
        "    # yield minibatches\n",
        "    for example in data:\n",
        "        batch.append(example)\n",
        "\n",
        "        if len(batch) == batch_size:\n",
        "            yield batch\n",
        "            batch = []\n",
        "\n",
        "    # in case there is something left\n",
        "    if len(batch) > 0:\n",
        "        yield batch"
      ]
    },
    {
      "cell_type": "markdown",
      "metadata": {
        "id": "DwZM-XYkT8Zx"
      },
      "source": [
        "#### Padding function\n",
        "We will need a function that adds padding 1s to a sequence of IDs so that\n",
        "it becomes as long as the longest sequence in the minibatch."
      ]
    },
    {
      "cell_type": "code",
      "execution_count": null,
      "metadata": {
        "id": "sp0sK1ghw4Ft"
      },
      "outputs": [],
      "source": [
        "def pad(tokens, length, pad_value=1):\n",
        "    \"\"\"add padding 1s to a sequence to that it has the desired length\"\"\"\n",
        "    return tokens + [pad_value] * (length - len(tokens))\n",
        "\n",
        "\n",
        "# example\n",
        "tokens = [2, 3, 4]\n",
        "pad(tokens, 5)"
      ]
    },
    {
      "cell_type": "markdown",
      "metadata": {
        "id": "SL2iixMYUgfh"
      },
      "source": [
        "#### New `prepare` function\n",
        "\n",
        "We will also need a new function that turns a mini-batch into PyTorch tensors."
      ]
    },
    {
      "cell_type": "code",
      "execution_count": null,
      "metadata": {
        "id": "ZID0cqozWks8"
      },
      "outputs": [],
      "source": [
        "def prepare_minibatch(mb, vocab):\n",
        "    \"\"\"\n",
        "    Minibatch is a list of examples.\n",
        "    This function converts words to IDs and returns\n",
        "    torch tensors to be used as input/targets.\n",
        "    \"\"\"\n",
        "    batch_size = len(mb)\n",
        "    maxlen = max([len(ex.tokens) for ex in mb])\n",
        "\n",
        "    # vocab returns 0 if the word is not there\n",
        "    x = [pad([vocab.w2i.get(t, 0) for t in ex.tokens], maxlen) for ex in mb]\n",
        "\n",
        "    x = torch.LongTensor(x)\n",
        "    x = x.to(device)\n",
        "\n",
        "    y = [ex.label for ex in mb]\n",
        "    y = torch.LongTensor(y)\n",
        "    y = y.to(device)\n",
        "\n",
        "    return x, y"
      ]
    },
    {
      "cell_type": "code",
      "execution_count": null,
      "metadata": {
        "id": "OwDAtCv1x2hB"
      },
      "outputs": [],
      "source": [
        "# Let's test our new function.\n",
        "# This should give us 3 examples.\n",
        "mb = next(get_minibatch(train_data, batch_size=3, shuffle=False))\n",
        "for ex in mb:\n",
        "    print(ex)"
      ]
    },
    {
      "cell_type": "code",
      "execution_count": null,
      "metadata": {
        "id": "dg8zEK8zyUCH"
      },
      "outputs": [],
      "source": [
        "# We should find padding 1s at the end\n",
        "x, y = prepare_minibatch(mb, v)\n",
        "print(\"x\", x)\n",
        "print(\"y\", y)"
      ]
    },
    {
      "cell_type": "markdown",
      "metadata": {
        "id": "xYBJEoSNUwI0"
      },
      "source": [
        "#### Evaluate (mini-batch version)\n",
        "\n",
        "We can now update our evaluation function to use mini-batches"
      ]
    },
    {
      "cell_type": "code",
      "execution_count": null,
      "metadata": {
        "id": "eiZZpEghzqou"
      },
      "outputs": [],
      "source": [
        "def evaluate(model, data,\n",
        "             batch_fn=get_minibatch, prep_fn=prepare_minibatch,\n",
        "             batch_size=32):\n",
        "    \"\"\"Accuracy of a model on given data set (using mini-batches)\"\"\"\n",
        "    correct = 0\n",
        "    total = 0\n",
        "    model.eval()  # disable dropout\n",
        "\n",
        "    for mb in batch_fn(data, batch_size=batch_size, shuffle=False):\n",
        "        x, targets = prep_fn(mb, model.vocab)\n",
        "        with torch.no_grad():\n",
        "            logits = model(x)\n",
        "\n",
        "        predictions = logits.argmax(dim=-1).view(-1)\n",
        "\n",
        "        # add the number of correct predictions to the total correct\n",
        "        correct += (predictions == targets.view(-1)).sum().item()\n",
        "        total += targets.size(0)\n",
        "\n",
        "    return correct, total, correct / float(total)"
      ]
    },
    {
      "cell_type": "markdown",
      "metadata": {
        "id": "23wAZomozh_2"
      },
      "source": [
        "# LSTM (Mini-batched)"
      ]
    },
    {
      "cell_type": "markdown",
      "metadata": {
        "id": "B-gkPU7jzBe2"
      },
      "source": [
        "With this, let's run the LSTM again but now using mini-batches!"
      ]
    },
    {
      "cell_type": "code",
      "execution_count": null,
      "metadata": {
        "id": "226Xg9OPzFbA"
      },
      "outputs": [],
      "source": [
        "lstm_model = LSTMClassifier(\n",
        "    len(v.w2i), 300, 168, len(t2i), v)\n",
        "\n",
        "# copy pre-trained vectors into embeddings table\n",
        "with torch.no_grad():\n",
        "    lstm_model.embed.weight.data.copy_(torch.from_numpy(vectors))\n",
        "    lstm_model.embed.weight.requires_grad = False\n",
        "\n",
        "print(lstm_model)\n",
        "print_parameters(lstm_model)\n",
        "\n",
        "lstm_model = lstm_model.to(device)\n",
        "\n",
        "batch_size = 32\n",
        "optimizer = optim.Adam(lstm_model.parameters(), lr=2e-4)\n",
        "\n",
        "lstm_losses, lstm_accuracies = train_model(\n",
        "    lstm_model, optimizer, num_iterations=30000,\n",
        "    print_every=250, eval_every=250,\n",
        "    batch_size=batch_size,\n",
        "    batch_fn=get_minibatch,\n",
        "    prep_fn=prepare_minibatch,\n",
        "    eval_fn=evaluate)"
      ]
    },
    {
      "cell_type": "code",
      "execution_count": null,
      "metadata": {
        "id": "ymj1rLDMvyhp"
      },
      "outputs": [],
      "source": [
        "# plot validation accuracy and training loss\n",
        "fig, axs = plt.subplots(1, 2, figsize=(10, 5))\n",
        "axs[0].plot(lstm_losses, label=\"LSTM\")\n",
        "axs[0].set_title(\"Training loss\")\n",
        "axs[1].plot(lstm_accuracies, label=\"LSTM\")\n",
        "axs[1].set_title(\"Validation accuracy\")"
      ]
    },
    {
      "cell_type": "markdown",
      "metadata": {
        "id": "eep3X9go3rtj"
      },
      "source": [
        "Fine-tuning word embeddings"
      ]
    },
    {
      "cell_type": "code",
      "execution_count": null,
      "metadata": {
        "id": "HJ01PSst3yAr"
      },
      "outputs": [],
      "source": [
        "lstm_model = LSTMClassifier(len(v.w2i), 300, 168, len(t2i), v)\n",
        "\n",
        "# Now fine-tune your embeddings together with the model\n",
        "\n",
        "with torch.no_grad():\n",
        "    lstm_model.embed.weight.data.copy_(torch.from_numpy(vectors.astype(np.float32)))\n",
        "    lstm_model.embed.weight.requires_grad = True\n",
        "# YOUR CODE HERE\n",
        "lstm_model.embed.requires_grad_()\n",
        "\n",
        "print(lstm_model)\n",
        "print_parameters(lstm_model)\n",
        "\n",
        "lstm_model = lstm_model.to(device)\n",
        "\n",
        "batch_size = 25\n",
        "optimizer = optim.Adam(lstm_model.parameters(), lr=2e-4)\n",
        "\n",
        "lstm_losses, lstm_accuracies = train_model(\n",
        "    lstm_model,\n",
        "    optimizer,\n",
        "    num_iterations=30000,\n",
        "    print_every=500,\n",
        "    eval_every=1000,\n",
        "    batch_size=batch_size,\n",
        "    batch_fn=get_minibatch,\n",
        "    prep_fn=prepare_minibatch,\n",
        "    eval_fn=evaluate,\n",
        ")"
      ]
    },
    {
      "cell_type": "code",
      "execution_count": null,
      "metadata": {
        "id": "lU6RiipU4Olf"
      },
      "outputs": [],
      "source": [
        "# plot validation accuracy and train loss\n",
        "fig, axs = plt.subplots(1, 2, figsize=(10, 5))\n",
        "axs[0].plot(lstm_losses, label=\"LSTM\")\n",
        "axs[0].set_title(\"Training loss\")\n",
        "axs[1].plot(lstm_accuracies, label=\"LSTM\")\n",
        "axs[1].set_title(\"Validation accuracy\")"
      ]
    },
    {
      "cell_type": "markdown",
      "metadata": {
        "id": "q7WjcxXntMi5"
      },
      "source": [
        "# Tree-LSTM"
      ]
    },
    {
      "cell_type": "markdown",
      "metadata": {
        "id": "jyj_UD6GtO5M"
      },
      "source": [
        "In the final part of this lab we will exploit the tree structure of the SST data.\n",
        "Until now we only used the surface tokens, but remember that our data examples include binary trees with a sentiment score at every node.\n",
        "\n",
        "In particular, we will implement **N-ary Tree-LSTMs** which are described in:\n",
        "\n",
        "> Kai Sheng Tai, Richard Socher, and Christopher D. Manning. [Improved Semantic Representations From Tree-Structured Long Short-Term Memory Networks](http://aclweb.org/anthology/P/P15/P15-1150.pdf) ACL 2015.\n",
        "\n",
        "Since our trees are binary (i.e., N=2), we can refer to these as *Binary Tree-LSTMs*. If you study equations (9) to (14) in the paper, you will find that they are not all too different from the original LSTM that you already have.\n",
        "\n",
        "You should read this paper carefully and make sure that you understand the approach. You will also find our LSTM baseline there.\n",
        "Note however that Tree-LSTMs were proposed around the same time by two other groups:\n",
        "\n",
        "> Phong Le and Willem Zuidema. [Compositional distributional semantics with long short term memory](http://anthology.aclweb.org/S/S15/S15-1002.pdf). *SEM 2015.\n",
        "\n",
        "> Xiaodan Zhu, Parinaz Sobihani,  and Hongyu Guo. [Long short-term memory over recursive structures](http://proceedings.mlr.press/v37/zhub15.pdf). ICML 2015.\n",
        "\n",
        "It is good scientific practice to cite all three papers in your report.\n",
        "\n",
        "\n"
      ]
    },
    {
      "cell_type": "markdown",
      "metadata": {
        "id": "1rDzvSos3JFp"
      },
      "source": [
        "## Computation\n",
        "\n",
        "Do you remember the `transitions_from_treestring` function all the way in the beginning of this lab? Every example contains a **transition sequence** produced by this function. Let's look at it again:\n",
        "\n"
      ]
    },
    {
      "cell_type": "code",
      "execution_count": 42,
      "metadata": {
        "id": "5pg0Xumc3ZUS"
      },
      "outputs": [
        {
          "ename": "FileNotFoundError",
          "evalue": "[Errno 2] No such file or directory: 'trees/dev.txt'",
          "output_type": "error",
          "traceback": [
            "\u001b[0;31m---------------------------------------------------------------------------\u001b[0m",
            "\u001b[0;31mFileNotFoundError\u001b[0m                         Traceback (most recent call last)",
            "\u001b[1;32m/Users/Matey/Documents/Obsidian/University/Courses/NLP/Practicals/NLP1_2023_Prac_2_st.ipynb Cell 106\u001b[0m line \u001b[0;36m1\n\u001b[0;32m----> <a href='vscode-notebook-cell:/Users/Matey/Documents/Obsidian/University/Courses/NLP/Practicals/NLP1_2023_Prac_2_st.ipynb#Y225sZmlsZQ%3D%3D?line=0'>1</a>\u001b[0m ex \u001b[39m=\u001b[39m \u001b[39mnext\u001b[39;49m(examplereader(\u001b[39m\"\u001b[39;49m\u001b[39mtrees/dev.txt\u001b[39;49m\u001b[39m\"\u001b[39;49m))\n\u001b[1;32m      <a href='vscode-notebook-cell:/Users/Matey/Documents/Obsidian/University/Courses/NLP/Practicals/NLP1_2023_Prac_2_st.ipynb#Y225sZmlsZQ%3D%3D?line=1'>2</a>\u001b[0m \u001b[39mprint\u001b[39m(TreePrettyPrinter(ex\u001b[39m.\u001b[39mtree))\n\u001b[1;32m      <a href='vscode-notebook-cell:/Users/Matey/Documents/Obsidian/University/Courses/NLP/Practicals/NLP1_2023_Prac_2_st.ipynb#Y225sZmlsZQ%3D%3D?line=2'>3</a>\u001b[0m \u001b[39mprint\u001b[39m(\u001b[39m\"\u001b[39m\u001b[39mTransitions:\u001b[39m\u001b[39m\"\u001b[39m)\n",
            "File \u001b[0;32m~/Documents/Obsidian/University/Courses/NLP/Practicals/practical2/utils.py:43\u001b[0m, in \u001b[0;36mexamplereader\u001b[0;34m(path, lower)\u001b[0m\n\u001b[1;32m     41\u001b[0m tokens: \u001b[39mlist\u001b[39m\n\u001b[1;32m     42\u001b[0m tree: Tree\n\u001b[0;32m---> 43\u001b[0m label: \u001b[39mint\u001b[39m\n\u001b[1;32m     44\u001b[0m transitions: \u001b[39mlist\u001b[39m\n",
            "File \u001b[0;32m~/Documents/Obsidian/University/Courses/NLP/Practicals/practical2/utils.py:15\u001b[0m, in \u001b[0;36mfilereader\u001b[0;34m(path)\u001b[0m\n\u001b[1;32m     12\u001b[0m \u001b[39mimport\u001b[39;00m \u001b[39mtorch\u001b[39;00m\n\u001b[1;32m     13\u001b[0m \u001b[39mfrom\u001b[39;00m \u001b[39mtqdm\u001b[39;00m \u001b[39mimport\u001b[39;00m tqdm\n\u001b[0;32m---> 15\u001b[0m SHIFT \u001b[39m=\u001b[39m \u001b[39m0\u001b[39m\n\u001b[1;32m     16\u001b[0m REDUCE \u001b[39m=\u001b[39m \u001b[39m1\u001b[39m\n\u001b[1;32m     19\u001b[0m \u001b[39mdef\u001b[39;00m \u001b[39mfilereader\u001b[39m(path):\n",
            "\u001b[0;31mFileNotFoundError\u001b[0m: [Errno 2] No such file or directory: 'trees/dev.txt'"
          ]
        }
      ],
      "source": [
        "ex = next(examplereader(\"trees/dev.txt\"))\n",
        "print(TreePrettyPrinter(ex.tree))\n",
        "print(\"Transitions:\")\n",
        "print(ex.transitions)"
      ]
    },
    {
      "cell_type": "markdown",
      "metadata": {
        "id": "ceBFe9fU4BI_"
      },
      "source": [
        "Note that the tree is **binary**. Every node has two children, except for pre-terminal nodes.\n",
        "\n",
        "A tree like this can be described by a sequence of **SHIFT (0)** and **REDUCE (1)** actions.\n",
        "\n",
        "To construct a tree, we can use the transitions as follows:\n",
        "- **reverse** the sentence (a list of tokens) and call this the **buffer**\n",
        "   - the first word is now on top (last in the list), and we would get it when calling pop() on the buffer\n",
        "- create an empty list and call it the **stack**\n",
        "- iterate through the transition sequence:\n",
        "  - if it says SHIFT(0), we pop a word from the buffer, and push it to the stack\n",
        "  - if it says REDUCE(1), we pop the **top two items** from the stack, and combine them (e.g. with a Tree-LSTM!), creating a new node that we push back on the stack\n",
        "  \n",
        "Convince yourself that going through the transition sequence above will result in the tree that you see.\n",
        "For example, we would start by putting the following words on the stack (by shifting 5 times, starting with `It`):\n",
        "\n",
        "```\n",
        "Top of the stack:\n",
        "-----------------\n",
        "film\n",
        "lovely\n",
        "a\n",
        "'s  \n",
        "It\n",
        "```\n",
        "Now we find a REDUCE in the transition sequence, so we get the top two words (film and lovely), and combine them, so our new stack becomes:\n",
        "```\n",
        "Top of the stack:\n",
        "-----------------\n",
        "lovely film\n",
        "a\n",
        "'s  \n",
        "It\n",
        "```\n",
        "\n",
        "We will use this approach when encoding sentences with our Tree-LSTM.\n",
        "Now, our sentence is a reversed list of word embeddings.\n",
        "When we shift, we move a word embedding to the stack.\n",
        "When we reduce, we apply the Tree-LSTM to the top two vectors, and the result is a single vector that we put back on the stack.\n",
        "After going through the whole transition sequence, we will have the root node on our stack! We can use that to classify the sentence.\n",
        "\n"
      ]
    },
    {
      "cell_type": "markdown",
      "metadata": {
        "id": "pDWKShm1AfmR"
      },
      "source": [
        "## Obtaining the transition sequence\n"
      ]
    },
    {
      "cell_type": "markdown",
      "metadata": {
        "id": "fO7VKWVpAbWj"
      },
      "source": [
        "\n",
        "So what goes on in the `transitions_from_treestring` function?\n",
        "\n",
        "The idea ([explained in this blog post](https://devblogs.nvidia.com/recursive-neural-networks-pytorch/)) is that, if we had a tree, we could traverse through the tree, and every time that we find a node containing only a word, we output a SHIFT.\n",
        "Every time **after** we have finished visiting the children of a node, we output a REDUCE.\n",
        "(What is this tree traversal called?)\n",
        "\n",
        "However, our `transitions_from_treestring` function operates directly on the string representation. It works as follows.\n",
        "\n",
        "We start with the representation:\n",
        "\n",
        "```\n",
        "(3 (2 It) (4 (4 (2 's) (4 (3 (2 a) (4 (3 lovely) (2 film))) (3 (2 with) (4 (3 (3 lovely) (2 performances)) (2 (2 by) (2 (2 (2 Buy) (2 and)) (2 Accorsi))))))) (2 .)))\n",
        "```\n",
        "\n",
        "First we remove pre-terminal nodes (and add spaces before closing brackets):\n",
        "\n",
        "```\n",
        "(3 It (4 (4 's (4 (3 a (4 lovely film ) ) (3 with (4 (3 lovely performances ) (2 by (2 (2 Buy and )  Accorsi ) ) ) ) ) ) . ) )\n",
        "```\n",
        "\n",
        "Then we remove node labels:\n",
        "\n",
        "```\n",
        "( It ( ( 's ( ( a ( lovely film ) ) ( with ( ( lovely performances) ( by ( ( Buy and )  Accorsi ) ) ) ) ) ) . ) )\n",
        "```\n",
        "\n",
        "Then we remove opening brackets:\n",
        "\n",
        "```\n",
        "It 's a lovely film ) ) with lovely performances ) by Buy and ) Accorsi ) ) ) ) ) ) . ) )\n",
        "```\n",
        "\n",
        "Now we replace words by S (for SHIFT), and closing brackets by R (for REDUCE):\n",
        "\n",
        "```\n",
        "S S S S S R R S S S R S S S R S R R R R R R S R R\n",
        "0 0 0 0 0 1 1 0 0 0 1 0 0 0 1 0 1 1 1 1 1 1 0 1 1\n",
        "```\n",
        "\n",
        "Et voilà. We just obtained the transition sequence!"
      ]
    },
    {
      "cell_type": "code",
      "execution_count": null,
      "metadata": {
        "id": "1y069gM4_v64"
      },
      "outputs": [],
      "source": [
        "# for comparison\n",
        "seq = ex.transitions\n",
        "s = \" \".join([\"S\" if t == 0 else \"R\" for t in seq])\n",
        "print(s)\n",
        "print(\" \".join(map(str, seq)))"
      ]
    },
    {
      "cell_type": "markdown",
      "metadata": {
        "id": "d-qOuKbDAiBn"
      },
      "source": [
        "## Coding the Tree-LSTM\n",
        "\n",
        "The code below contains a Binary Tree-LSTM cell.\n",
        "It is used in the TreeLSTM class below it, which in turn is used in the TreeLSTMClassifier.\n",
        "The job of the TreeLSTM class is to encode a complete sentence and return the root node.\n",
        "The job of the TreeLSTMCell is to return a new state when provided with two children (a reduce action). By repeatedly calling the TreeLSTMCell, the TreeLSTM will encode a sentence. This can be done for multiple sentences at the same time.\n",
        "\n",
        "\n",
        "#### Exercise\n",
        "Check the `forward` function and complete the Tree-LSTM formulas.\n",
        "You can see that we defined a large linear layer for you, that projects the *concatenation* of the left and right child into the input gate, left forget gate, right forget gate, candidate, and output gate."
      ]
    },
    {
      "cell_type": "code",
      "execution_count": null,
      "metadata": {
        "id": "J9b9mjMlN7Pb"
      },
      "outputs": [],
      "source": [
        "class TreeLSTMCell(nn.Module):\n",
        "    \"\"\"A Binary Tree LSTM cell\"\"\"\n",
        "\n",
        "    def __init__(self, input_size, hidden_size, bias=True):\n",
        "        \"\"\"Creates the weights for this LSTM\"\"\"\n",
        "        super(TreeLSTMCell, self).__init__()\n",
        "\n",
        "        self.input_size = input_size\n",
        "        self.hidden_size = hidden_size\n",
        "        self.bias = bias\n",
        "\n",
        "        self.reduce_layer = nn.Linear(2 * hidden_size, 5 * hidden_size)\n",
        "        self.dropout_layer = nn.Dropout(p=0.25)\n",
        "\n",
        "        self.reset_parameters()\n",
        "\n",
        "    def reset_parameters(self):\n",
        "        \"\"\"This is PyTorch's default initialization method\"\"\"\n",
        "        stdv = 1.0 / math.sqrt(self.hidden_size)\n",
        "        for weight in self.parameters():\n",
        "            weight.data.uniform_(-stdv, stdv)\n",
        "\n",
        "    def forward(self, hx_l, hx_r, mask=None):\n",
        "        \"\"\"\n",
        "        hx_l is ((batch, hidden_size), (batch, hidden_size))\n",
        "        hx_r is ((batch, hidden_size), (batch, hidden_size))\n",
        "        \"\"\"\n",
        "        prev_h_l, prev_c_l = hx_l  # left child\n",
        "        prev_h_r, prev_c_r = hx_r  # right child\n",
        "\n",
        "        B = prev_h_l.size(0)\n",
        "\n",
        "        # we concatenate the left and right children\n",
        "        # you can also project from them separately and then sum\n",
        "        children = torch.cat([prev_h_l, prev_h_r], dim=1)\n",
        "\n",
        "        # project the combined children into a 5D tensor for i,fl,fr,g,o\n",
        "        # this is done for speed, and you could also do it separately\n",
        "        proj = self.reduce_layer(children)  # shape: B x 5D\n",
        "\n",
        "        # each shape: B x D\n",
        "        i, fl, fr, g, o = torch.chunk(proj, 5, dim=-1)\n",
        "\n",
        "        # main Tree LSTM computation\n",
        "\n",
        "        # YOUR CODE HERE\n",
        "        # You only need to complete the commented lines below.\n",
        "        # raise NotImplementedError(\"Implement this.\")\n",
        "\n",
        "        # The shape of each of these is [batch_size, hidden_size]\n",
        "\n",
        "        # TODO: AREN'T THESE LITERALLY RIGHT ABOVE THIS LINE OF CODE????\n",
        "        # i = ...\n",
        "        # f_l = ...\n",
        "        # f_r = ...\n",
        "        # g = ...\n",
        "        # o = ...\n",
        "\n",
        "        # c = ...\n",
        "        # h = ...\n",
        "\n",
        "        # that was literally in the provided code...\n",
        "        c = fl * prev_c_l + fr * prev_c_r + i * g\n",
        "        h = o * torch.tanh(c)\n",
        "\n",
        "        return h, c\n",
        "\n",
        "    def __repr__(self):\n",
        "        return \"{}({:d}, {:d})\".format(\n",
        "            self.__class__.__name__, self.input_size, self.hidden_size\n",
        "        )"
      ]
    },
    {
      "cell_type": "markdown",
      "metadata": {
        "id": "Dj5dYSGh_643"
      },
      "source": [
        "## Explanation of the TreeLSTM class\n",
        "\n",
        "\n",
        "The code below contains the TreeLSTM class, which implements everything we need in order to encode a sentence from word embeddings. The calculations are the same as in the paper, implemented such that the class `TreeLSTMCell` above is as general as possible and only takes two children to reduce them into a parent.\n",
        "\n",
        "\n",
        "**Initialize $\\mathbf{h}$ and $\\mathbf{c}$ outside of the cell for the leaves**\n",
        "\n",
        "At the leaves of each tree the children nodes are **empty**, whereas in higher levels the nodes are binary tree nodes that *do* have a left and right child (but no input $x$). By initializing the leaf nodes outside of the cell class (`TreeLSTMCell`), we avoid if-else statements in the forward pass.\n",
        "\n",
        "The `TreeLSTM` class (among other things) pre-calculates an initial $h$ and $c$ for every word in the sentence. Since the initial left and right child are 0, the only calculations we need to do are based on $x$, and we can drop the forget gate calculation (`prev_c_l` and `prev_c_r` are zero). The calculations we do in order to initalize $h$ and $c$ are then:\n",
        "\n",
        "$$\n",
        "c_1 =  W^{(u)}x_1 \\\\\n",
        "o_1 = \\sigma (W^{(i)}x_1) \\\\\n",
        "h_1 = o_1 \\odot \\text{tanh}(c_1)$$\n",
        "*NB: note that these equations are chosen as initializations of $c$ and $h$, other initializations are possible and might work equally well.*\n",
        "\n",
        "**Sentence Representations**\n",
        "\n",
        "All our leaf nodes are now initialized, so we can start processing the sentence in its tree form. Each sentence is represented by a buffer (initially a list with a concatenation of $[h_1, c_1]$ for every word in the reversed sentence), a stack (initially an empty list) and a transition sequence. To encode our sentence, we construct the tree from its transition sequence as explained earlier.\n",
        "\n",
        "*A short example that constructs a tree:*\n",
        "\n",
        "We loop over the time dimension of the batched transition sequences (i.e. row by row), which contain values of 0's, 1's and 2's (representing SHIFT, REDUCE and padding respectively). If we have a batch of size 2 where the first example has a transition sequence given by [0, 0, 1, 0, 0, 0, 1] and the second by [0, 0, 1, 0, 0, 1], our transition batch will be given by the following two-dimensional numpy array:\n",
        "\n",
        "$$\n",
        "\\text{transitions} =\n",
        "\\begin{pmatrix}\n",
        "0 & 0\\\\\n",
        "0 & 0\\\\\n",
        "1 & 1\\\\\n",
        "0 & 0\\\\\n",
        "0 & 0\\\\\n",
        "0 & 1\\\\\n",
        "1 & 2\n",
        "\\end{pmatrix}\n",
        "$$\n",
        "The inner loop (`for transition, buffer, stack in zip(t_batch, buffers, stacks)`) goes over each example in the batch and updates its buffer and stack. The nested loop for this example will then do roughy the following:\n",
        "\n",
        "```\n",
        "Time = 0:  t_batch = [0, 0], the inner loop performs 2 SHIFTs.\n",
        "\n",
        "Time = 1:  t_batch = [0, 0], \"..\"\n",
        "\n",
        "Time = 2:  t_batch = [1, 1], causing the inner loop to fill the list child_l and child_r for both examples in the batch. Now the statement if child_l will return True, triggering a REDUCE action to be performed by our Tree LSTM cell with a batch size of 2.\n",
        "\n",
        "Time = 3:  t_batch = [0, 0], \"..\".\n",
        "\n",
        "Time = 4:  t_batch = [0, 0], \"..\"\n",
        "\n",
        "Time = 5:  t_batch = [0, 1], one SHIFT will be done and another REDUCE action will be performed by our Tree LSTM, this time of batch size 1.  \n",
        "\n",
        "Time = 6:  t_batch = [1, 2], triggering another REDUCE action with batch size 1.\n",
        "```\n",
        "*NB: note that this was an artificial example for the purpose of demonstrating parts of the code, the transition sequences do not necessarily represent actual trees.*\n",
        "\n",
        "**Batching and Unbatching**\n",
        "\n",
        "Within the body of the outer loop over time, we use the functions for batching and unbatching.\n",
        "\n",
        "*Batching*\n",
        "\n",
        "Before passing two lists of children to the reduce layer (an instance of `TreeLSTMCell`), we batch the children as they are at this point a list of tensors of variable length based on how many REDUCE actions there are to perform at a certain time step across the batch (let's call the length `L`). To do an efficient forward pass we want to transform the list to a pair of tensors of shape `([L, D], [L, D])`, which the function `batch` achieves.\n",
        "\n",
        "*Unbatching*\n",
        "\n",
        "In the same line where we batched the children, we unbatch the output of the forward pass to become a list of states of length `L` again. We do this because we need to loop over each example's transition at the current time step and push the children that are reduced into a parent to the stack.\n",
        "\n",
        "*The batch and unbatch functions let us switch between the \"PyTorch world\" (Tensors) and the Python world (easy to manipulate lists).*\n"
      ]
    },
    {
      "cell_type": "code",
      "execution_count": null,
      "metadata": {
        "id": "5PixvTd4AqsQ"
      },
      "outputs": [],
      "source": [
        "# Helper functions for batching and unbatching states\n",
        "# For speed we want to combine computations by batching, but\n",
        "# for processing logic we want to turn the output into lists again\n",
        "# to easily manipulate.\n",
        "\n",
        "def batch(states):\n",
        "    \"\"\"\n",
        "    Turns a list of states into a single tensor for fast processing.\n",
        "    This function also chunks (splits) each state into a (h, c) pair\"\"\"\n",
        "    return torch.cat(states, 0).chunk(2, 1)\n",
        "\n",
        "\n",
        "def unbatch(state):\n",
        "    \"\"\"\n",
        "    Turns a tensor back into a list of states.\n",
        "    First, (h, c) are merged into a single state.\n",
        "    Then the result is split into a list of sentences.\n",
        "    \"\"\"\n",
        "    return torch.split(torch.cat(state, 1), 1, 0)"
      ]
    },
    {
      "cell_type": "markdown",
      "metadata": {
        "id": "CynltDasaLPt"
      },
      "source": [
        "Take some time to understand the class below, having read the explanation above."
      ]
    },
    {
      "cell_type": "code",
      "execution_count": null,
      "metadata": {
        "id": "rQOqMXG4gX5G"
      },
      "outputs": [],
      "source": [
        "class TreeLSTM(nn.Module):\n",
        "    \"\"\"Encodes a sentence using a TreeLSTMCell\"\"\"\n",
        "\n",
        "    def __init__(self, input_size, hidden_size, bias=True):\n",
        "        \"\"\"Creates the weights for this LSTM\"\"\"\n",
        "        super(TreeLSTM, self).__init__()\n",
        "\n",
        "        self.input_size = input_size\n",
        "        self.hidden_size = hidden_size\n",
        "        self.bias = bias\n",
        "        self.reduce = TreeLSTMCell(input_size, hidden_size)\n",
        "\n",
        "        # project word to initial c\n",
        "        self.proj_x = nn.Linear(input_size, hidden_size)\n",
        "        self.proj_x_gate = nn.Linear(input_size, hidden_size)\n",
        "\n",
        "        self.buffers_dropout = nn.Dropout(p=0.5)\n",
        "\n",
        "    def forward(self, x, transitions):\n",
        "        \"\"\"\n",
        "        WARNING: assuming x is reversed!\n",
        "        :param x: word embeddings [B, T, E]\n",
        "        :param transitions: [2T-1, B]\n",
        "        :return: root states\n",
        "        \"\"\"\n",
        "\n",
        "        B = x.size(0)  # batch size\n",
        "        T = x.size(1)  # time\n",
        "\n",
        "        # compute an initial c and h for each word\n",
        "        # Note: this corresponds to input x in the Tai et al. Tree LSTM paper.\n",
        "        # We do not handle input x in the TreeLSTMCell itself.\n",
        "        buffers_c = self.proj_x(x)\n",
        "        buffers_h = buffers_c.tanh()\n",
        "        buffers_h_gate = self.proj_x_gate(x).sigmoid()\n",
        "        buffers_h = buffers_h_gate * buffers_h\n",
        "\n",
        "        # concatenate h and c for each word\n",
        "        buffers = torch.cat([buffers_h, buffers_c], dim=-1)\n",
        "\n",
        "        D = buffers.size(-1) // 2\n",
        "\n",
        "        # we turn buffers into a list of stacks (1 stack for each sentence)\n",
        "        # first we split buffers so that it is a list of sentences (length B)\n",
        "        # then we split each sentence to be a list of word vectors\n",
        "        buffers = buffers.split(1, dim=0)  # Bx[T, 2D]\n",
        "        buffers = [list(b.squeeze(0).split(1, dim=0))\n",
        "                   for b in buffers]  # BxTx[2D]\n",
        "\n",
        "        # create B empty stacks\n",
        "        stacks = [[] for _ in buffers]\n",
        "\n",
        "        # t_batch holds 1 transition for each sentence\n",
        "        for t_batch in transitions:\n",
        "\n",
        "            child_l = []  # contains the left child for each sentence with reduce action\n",
        "            child_r = []  # contains the corresponding right child\n",
        "\n",
        "            # iterate over sentences in the batch\n",
        "            # each has a transition t, a buffer and a stack\n",
        "            for transition, buffer, stack in zip(t_batch, buffers, stacks):\n",
        "                if transition == SHIFT:\n",
        "                    stack.append(buffer.pop())\n",
        "                elif transition == REDUCE:\n",
        "                    assert len(stack) >= 2, \\\n",
        "                        \"Stack too small! Should not happen with valid transition sequences\"\n",
        "                    child_r.append(stack.pop())  # right child is on top\n",
        "                    child_l.append(stack.pop())\n",
        "\n",
        "            # if there are sentences with reduce transition, perform them batched\n",
        "            if child_l:\n",
        "                reduced = iter(\n",
        "                    unbatch(self.reduce(batch(child_l), batch(child_r))))\n",
        "                for transition, stack in zip(t_batch, stacks):\n",
        "                    if transition == REDUCE:\n",
        "                        stack.append(next(reduced))\n",
        "\n",
        "        final = [stack.pop().chunk(2, -1)[0] for stack in stacks]\n",
        "        final = torch.cat(final, dim=0)  # tensor [B, D]\n",
        "\n",
        "        return final"
      ]
    },
    {
      "cell_type": "markdown",
      "metadata": {
        "id": "s4EzbVzqaXkw"
      },
      "source": [
        "Just like the LSTM before, we will need an extra class that does the classifications."
      ]
    },
    {
      "cell_type": "code",
      "execution_count": null,
      "metadata": {
        "id": "nLxpYRvtQKge"
      },
      "outputs": [],
      "source": [
        "class TreeLSTMClassifier(nn.Module):\n",
        "    \"\"\"Encodes sentence with a TreeLSTM and projects final hidden state\"\"\"\n",
        "\n",
        "    def __init__(self, vocab_size, embedding_dim, hidden_dim, output_dim, vocab):\n",
        "        super(TreeLSTMClassifier, self).__init__()\n",
        "        self.vocab = vocab\n",
        "        self.hidden_dim = hidden_dim\n",
        "        self.embed = nn.Embedding(vocab_size, embedding_dim, padding_idx=1)\n",
        "        self.treelstm = TreeLSTM(embedding_dim, hidden_dim)\n",
        "        self.output_layer = nn.Sequential(\n",
        "            nn.Dropout(p=0.5),\n",
        "            nn.Linear(hidden_dim, output_dim, bias=True)\n",
        "        )\n",
        "\n",
        "    def forward(self, x):\n",
        "\n",
        "        # x is a pair here of words and transitions; we unpack it here.\n",
        "        # x is batch-major: [B, T], transitions is time major [2T-1, B]\n",
        "        x, transitions = x\n",
        "        emb = self.embed(x)\n",
        "\n",
        "        # we use the root/top state of the Tree LSTM to classify the sentence\n",
        "        root_states = self.treelstm(emb, transitions)\n",
        "\n",
        "        # we use the last hidden state to classify the sentence\n",
        "        logits = self.output_layer(root_states)\n",
        "        return logits"
      ]
    },
    {
      "cell_type": "markdown",
      "metadata": {
        "id": "gh9RbhGwaiLg"
      },
      "source": [
        "## Special `prepare` function for Tree-LSTM\n",
        "\n",
        "We need yet another `prepare` function. For our implementation, sentences need to be *reversed*. We will do that here."
      ]
    },
    {
      "cell_type": "code",
      "execution_count": null,
      "metadata": {
        "id": "DiqH-_2xdm9H"
      },
      "outputs": [],
      "source": [
        "def prepare_treelstm_minibatch(mb, vocab):\n",
        "    \"\"\"\n",
        "    Returns sentences reversed (last word first)\n",
        "    Returns transitions together with the sentences.\n",
        "    \"\"\"\n",
        "    batch_size = len(mb)\n",
        "    maxlen = max([len(ex.tokens) for ex in mb])\n",
        "\n",
        "    # vocab returns 0 if the word is not there\n",
        "    # NOTE: reversed sequence!\n",
        "    x = [pad([vocab.w2i.get(t, 0) for t in ex.tokens], maxlen)[::-1]\n",
        "         for ex in mb]\n",
        "\n",
        "    x = torch.LongTensor(x)\n",
        "    x = x.to(device)\n",
        "\n",
        "    y = [ex.label for ex in mb]\n",
        "    y = torch.LongTensor(y)\n",
        "    y = y.to(device)\n",
        "\n",
        "    maxlen_t = max([len(ex.transitions) for ex in mb])\n",
        "    transitions = [pad(ex.transitions, maxlen_t, pad_value=2) for ex in mb]\n",
        "    transitions = np.array(transitions)\n",
        "    transitions = transitions.T  # time-major\n",
        "\n",
        "    return (x, transitions), y"
      ]
    },
    {
      "cell_type": "markdown",
      "metadata": {
        "id": "IMUsrlL9ayVe"
      },
      "source": [
        "## Training"
      ]
    },
    {
      "cell_type": "code",
      "execution_count": null,
      "metadata": {
        "id": "IpOYUdg2D3v0"
      },
      "outputs": [],
      "source": [
        "# Now let's train the Tree LSTM!\n",
        "\n",
        "tree_model = TreeLSTMClassifier(\n",
        "    len(v.w2i), 300, 150, len(t2i), v)\n",
        "\n",
        "with torch.no_grad():\n",
        "    tree_model.embed.weight.data.copy_(torch.from_numpy(vectors))\n",
        "    tree_model.embed.weight.requires_grad = False\n",
        "\n",
        "\n",
        "def do_train(model, lr=2e-4):\n",
        "\n",
        "    print(model)\n",
        "    print_parameters(model)\n",
        "\n",
        "    model = model.to(device)\n",
        "\n",
        "    optimizer = optim.Adam(model.parameters(), lr=lr)\n",
        "\n",
        "    return train_model(\n",
        "        model, optimizer, num_iterations=30000,\n",
        "        print_every=250, eval_every=250,\n",
        "        prep_fn=prepare_treelstm_minibatch,\n",
        "        eval_fn=evaluate,\n",
        "        batch_fn=get_minibatch,\n",
        "        batch_size=25, eval_batch_size=25)\n",
        "\n",
        "lr = 2e-4\n",
        "losses, accuracies = do_train(tree_model)"
      ]
    },
    {
      "cell_type": "code",
      "execution_count": null,
      "metadata": {},
      "outputs": [],
      "source": [
        "# plot\n",
        "plot_dir = \"plots\"\n",
        "\n",
        "sns.set_style(\"whitegrid\")\n",
        "fig, ax = plt.subplots(2, 1)\n",
        "ax[0].plot(losses)\n",
        "ax[0].set_ylabel(\"Loss\")\n",
        "ax[0].set_xlabel(\"Iteration\")\n",
        "ax[0].set_title(f\"Training Loss (lr={lr}, mean={np.mean(losses):.3f})\")\n",
        "ax[1].plot(accuracies)\n",
        "ax[1].set_ylabel(\"Accuracy\")\n",
        "ax[1].set_xlabel(\"Evaluation Step\")\n",
        "ax[1].set_title(f\"Validation Accuracy (max: {max(accuracies):.2%})\")\n",
        "fig.tight_layout()\n",
        "fig.savefig(f\"{plot_dir}/{tree_model.__class__.__name__}.png\")"
      ]
    },
    {
      "cell_type": "markdown",
      "metadata": {
        "id": "f7QZZH86eHqu"
      },
      "source": [
        "# Further experiments and report\n",
        "\n",
        "For your report, you are expected to answer research questions by doing further experiments.\n",
        "\n",
        "## Research Questions\n",
        "\n",
        "Make sure you cover at least the following:\n",
        "\n",
        "- How important is word order for this task?\n",
        "- Does the tree structure help to get a better accuracy?\n",
        "- How does performance depend on the sentence length? Compare the various models. Is there a model that does better on longer sentences? If so, why?\n",
        "- Do you get better performance if you supervise the sentiment **at each node in the tree**? You can extract more training examples by treating every node in each tree as a separate tree. You will need to write a function that extracts all subtrees given a treestring.\n",
        "    - Warning: NLTK's Tree function seems to result in invalid trees in some cases, so be careful if you want to parse the string to a tree structure before extraction the phrases.\n",
        "\n",
        "**To be able to obtain a full grade (10), you should conduct further investigations.** For example, you can also investigate one the following:\n",
        "\n",
        "- When making a wrong prediction, can you figure out at what point in the tree (sentence) the model fails? You can make a prediction at each node to investigate.\n",
        "- How does N-ary Tree LSTM compare to the Child-Sum Tree LSTM?\n",
        "- How do the Tai et al. Tree LSTMs compare to Le & Zuidema's formulation?\n",
        "- Or... your own research question!\n",
        "\n",
        "These examples should give you an idea of the expected scope of your further investigations.\n",
        "\n",
        "In general:\n",
        "\n",
        "- ***When you report numbers, please report the mean accuracy across 3 (or more) runs with different random seed, together with the standard deviation.*** This is because the final performance may vary per random seed.\n",
        "More precisely, you should run each model with 3 different seeds, and for each of these 3 runs, evaluate the best model (according to the validation) on the test dataset. The validation dataset is used for finding the best model over iterations, but the accuracy you report should be on the test dataset.\n",
        "\n",
        "## Report instructions\n",
        "\n",
        "Your report needs to be written in LaTeX. You are required to use the ACL 2023 template which you can download from or edit directly on [Overleaf](https://www.overleaf.com/latex/templates/acl-2023-proceedings-template/qjdgcrdwcnwp). Make sure your names and student numbers are visible at the top. (Tip: you need to uncomment `\\aclfinalcopy`).\n",
        "You can find some general tips about writing a research paper [here](https://www.microsoft.com/en-us/research/academic-program/write-great-research-paper/), but note that you need to make your own judgment about what is appropriate for this project.\n",
        "\n",
        "We expect you to use the following structure:\n",
        "1. Introduction (~1 page) - describe the problem, your research questions and goals, a summary of your findings and contributions. Please cite related work (models, data set) as part of your introduction here, since this is a short paper.\n",
        "    - Introduce the task and the main goal\n",
        "    - Present your research questions\n",
        "    - Motivate the importance of the questions\n",
        "    - Present and explain your expectations\n",
        "    - Make clear whether the research questions are addressed or not addressed in the literature\n",
        "    - Describe the approach you use to answer the research questions\n",
        "    - Summarise your findings\n",
        "2. Background (~1/2-1 page) -\n",
        "cover the main techniques (\"building blocks\") used in your project (e.g. word embeddings, LSTM, Tree-LSTM) and intuitions behind them. Be accurate and concise.\n",
        "    - How does each technique work? (Don't just copy the formulas)\n",
        "    - What is the relation between the techniques?\n",
        "3. Models (~1/2 page) - Describe the architecture of the final models.\n",
        "    - How do you use LSTM or Tree-LSTM for the sentiment classification task?\n",
        "    - What layers do you have, how do you do classification?\n",
        "    - What is your loss function?\n",
        "    - Etc.\n",
        "4. Experiments (~1/2 page) - Describe your experimental setup. This section should allow someone else to reproduce your experiments. Describe how you evaluate the models.\n",
        "    - Task and the data\n",
        "    - Training (model, data, parameters and hyper parameters, training algorithms, supervision signals, etc.)\n",
        "    - Evaluation (e.g. metrics)\n",
        "5. Results and Analysis (~1 page). Present the results and analyse your findings.\n",
        "    - Answer each of the research questions you raised in the introduction.\n",
        "    - Use figures and tables to highlight interesting patterns\n",
        "    - What are the factors that make model A better than model B in task C? Investigate to prove their effect!\n",
        "6. Conclusion (~1/4 page). Present the conclusions that can be drawn from your experiments.\n",
        "    - What have you learned from you experiments?\n",
        "    - How do your findings relate to what is already known in the literature?\n",
        "    - Were the results as expected? Any surprising results? Why?\n",
        "    - Based on what you learned, what would you suggest doing next?\n",
        "\n",
        "\n",
        "General Tips:\n",
        "\n",
        "- Math notation – define each variable (either in running text, or in a pseudo-legenda after or before the equation).\n",
        "- Define technical terminology you need.\n",
        "- Avoid colloquial language – everything can be said in a scientific-sounding way.\n",
        "- Avoid lengthy sentences, stay to the point.\n",
        "- Do not spend space on \"obvious\" things.\n",
        "- Do not go over the page limit. (We will deduct points for that.)\n",
        "- The page limit is 4 pages excluding references and appendix. This is a strict limit; points will be deducted for longer reports.\n",
        "- There is no strict limit to references and appendix. However, the report needs to remain fully self-contained: the appendix should only include content that is not necessary to understand your work. For example, preprocessing decisions, model parameters, pseudocode, sample system inputs/outputs, and other details that are necessary for the exact replication of your work can be put into the appendix.\n",
        "\n",
        "\n",
        "An ideal report:\n",
        "- Precise, scientific-sounding, technical, to the point\n",
        "  - Little general “waffle”/chit-chat\n",
        "- Not boring – because you don’t explain obvious things too much\n",
        "- Efficient delivery of (only) the facts that we need to know to understand/reimplement\n",
        "- Results visually well-presented and described with the correct priority of importance of sub-results\n",
        "- Insightful analysis – speculation should connect to something interesting and not be too much; the reader “learns something new”\n",
        "- No typos, no colloquialisms – well-considered language\n",
        "- This normally means several re-draftings (re-orderings of information)\n"
      ]
    }
  ],
  "metadata": {
    "accelerator": "GPU",
    "colab": {
      "provenance": []
    },
    "kernelspec": {
      "display_name": "Python 3",
      "name": "python3"
    },
    "language_info": {
      "codemirror_mode": {
        "name": "ipython",
        "version": 3
      },
      "file_extension": ".py",
      "mimetype": "text/x-python",
      "name": "python",
      "nbconvert_exporter": "python",
      "pygments_lexer": "ipython3",
      "version": "3.11.5"
    }
  },
  "nbformat": 4,
  "nbformat_minor": 0
}
